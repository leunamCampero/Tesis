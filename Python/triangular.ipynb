{
 "cells": [
  {
   "cell_type": "code",
   "execution_count": 1,
   "metadata": {},
   "outputs": [],
   "source": [
    "from sympy import *\n",
    "import random\n",
    "from sympy.combinatorics.named_groups import SymmetricGroup\n",
    "init_printing()\n",
    "from sympy.physics.quantum.dagger import Dagger\n",
    "from sympy.functions import Abs"
   ]
  },
  {
   "cell_type": "code",
   "execution_count": 34,
   "metadata": {},
   "outputs": [],
   "source": [
    "def randMatrixC(r,c,min=0,max=1,seed=[]):\n",
    "    \"\"\"Create random matrix r x c with complex entries\"\"\"\n",
    "    if seed == []:\n",
    "        prng = random.Random()  # use system time\n",
    "    else:\n",
    "        prng = random.Random(seed)\n",
    "    return Matrix(r,c,lambda i,j: prng.randint(min,max)+I*prng.randint(min,max))"
   ]
  },
  {
   "cell_type": "code",
   "execution_count": 12,
   "metadata": {},
   "outputs": [],
   "source": [
    "def MTS(A):\n",
    "    \"\"\"Calcula una matriz triangular superior\"\"\"\n",
    "    A1=A\n",
    "    n=A.shape[0]\n",
    "    V=eye(n)\n",
    "    for i in range(0,n):\n",
    "        C=eye(n)\n",
    "        C[i,i]=1/sqrt(A1[i,i])\n",
    "        for j in range(i+1,n):\n",
    "            C[i,j] = -(1/A1[i,i])*A1[i,j]\n",
    "        V=V*C\n",
    "        V.simplify()\n",
    "        A1=Dagger(C)*A1*C\n",
    "        A1.simplify()\n",
    "    return V"
   ]
  },
  {
   "cell_type": "code",
   "execution_count": 17,
   "metadata": {},
   "outputs": [
    {
     "data": {
      "text/latex": [
       "$$\\left ( \\left[\\begin{matrix}2 & 1\\\\1 & 2\\end{matrix}\\right], \\quad \\left[\\begin{matrix}\\frac{\\sqrt{2}}{2} & - \\frac{\\sqrt{6}}{6}\\\\0 & \\frac{\\sqrt{6}}{3}\\end{matrix}\\right]\\right )$$"
      ]
     },
     "execution_count": 17,
     "metadata": {},
     "output_type": "execute_result"
    }
   ],
   "source": [
    "A=zeros(2,2)\n",
    "A[0,0]=2\n",
    "A[0,1]=1\n",
    "A[1,0]=1\n",
    "A[1,1]=2\n",
    "A,MTS(A)"
   ]
  },
  {
   "cell_type": "code",
   "execution_count": 11,
   "metadata": {},
   "outputs": [
    {
     "data": {
      "text/latex": [
       "$$\\left[\\begin{matrix}7 & 4 & 4 - 4 i & 4 - i & 5 - 2 i & 7 - i\\\\4 & 7 & 2 - 4 i & 4 - 2 i & 4 & 5 - i\\\\4 + 4 i & 2 + 4 i & 7 & 4 + 2 i & 4 + 2 i & 6 + 3 i\\\\4 + i & 4 + 2 i & 4 - 2 i & 8 & 5 + i & 7 + i\\\\5 + 2 i & 4 & 4 - 2 i & 5 - i & 7 & 6 + i\\\\7 + i & 5 + i & 6 - 3 i & 7 - i & 6 - i & 10\\end{matrix}\\right]$$"
      ]
     },
     "execution_count": 11,
     "metadata": {},
     "output_type": "execute_result"
    }
   ],
   "source": [
    "A=randMatrixC(6,6)\n",
    "B=Dagger(A)*A\n",
    "B.simplify()\n",
    "B"
   ]
  },
  {
   "cell_type": "code",
   "execution_count": 12,
   "metadata": {
    "scrolled": true
   },
   "outputs": [
    {
     "data": {
      "text/latex": [
       "$$\\left[\\begin{matrix}\\frac{\\sqrt{7}}{7} & - \\frac{4 \\sqrt{231}}{231} & \\frac{4 \\sqrt{1947} \\left(-5 + 3 i\\right)}{1947} & - \\frac{\\sqrt{177} \\left(12 + 19 i\\right)}{1593} & \\frac{\\sqrt{3} \\left(-95 + 111 i\\right)}{513} & - \\frac{2 \\sqrt{29} \\left(53 + 7 i\\right)}{551}\\\\0 & \\frac{\\sqrt{231}}{33} & \\frac{2 \\sqrt{1947} \\left(1 + 6 i\\right)}{1947} & \\frac{2 \\sqrt{177} \\left(-14 + 5 i\\right)}{1593} & - \\frac{2 \\sqrt{3} \\left(8 + 41 i\\right)}{513} & - \\frac{\\sqrt{29} \\left(111 + 97 i\\right)}{1102}\\\\0 & 0 & \\frac{\\sqrt{1947}}{59} & \\frac{2 \\sqrt{177} \\left(-12 + 7 i\\right)}{1593} & - \\frac{20 \\sqrt{3}}{513} & \\frac{\\sqrt{29} \\left(-212 + 153 i\\right)}{1102}\\\\0 & 0 & 0 & \\frac{\\sqrt{177}}{27} & - \\frac{\\sqrt{3} \\left(93 + 34 i\\right)}{513} & - \\frac{\\sqrt{29} \\left(199 + 28 i\\right)}{1102}\\\\0 & 0 & 0 & 0 & \\frac{9 \\sqrt{3}}{19} & \\frac{\\sqrt{29} \\left(121 - 72 i\\right)}{1102}\\\\0 & 0 & 0 & 0 & 0 & \\frac{19 \\sqrt{29}}{58}\\end{matrix}\\right]$$"
      ]
     },
     "execution_count": 12,
     "metadata": {},
     "output_type": "execute_result"
    }
   ],
   "source": [
    "C=MTS(B)\n",
    "C"
   ]
  },
  {
   "cell_type": "code",
   "execution_count": 13,
   "metadata": {},
   "outputs": [
    {
     "data": {
      "text/latex": [
       "$$\\left[\\begin{matrix}1 & 0 & 0 & 0 & 0 & 0\\\\0 & 1 & 0 & 0 & 0 & 0\\\\0 & 0 & 1 & 0 & 0 & 0\\\\0 & 0 & 0 & 1 & 0 & 0\\\\0 & 0 & 0 & 0 & 1 & 0\\\\0 & 0 & 0 & 0 & 0 & 1\\end{matrix}\\right]$$"
      ]
     },
     "execution_count": 13,
     "metadata": {},
     "output_type": "execute_result"
    }
   ],
   "source": [
    "J=Dagger(C)*B*C\n",
    "J.simplify()\n",
    "J"
   ]
  },
  {
   "cell_type": "raw",
   "metadata": {},
   "source": []
  },
  {
   "cell_type": "code",
   "execution_count": 13,
   "metadata": {},
   "outputs": [],
   "source": [
    "def regular_representation(G):\n",
    "    elems = list(G.elements)\n",
    "    n = len(elems)\n",
    "    def char_function(i, j):\n",
    "        if elems[i]*g == elems[j]:\n",
    "            return 1\n",
    "        else:\n",
    "            return 0\n",
    "    mydict = {}\n",
    "    for g in elems:\n",
    "        mydict[g] = Matrix(n, n, char_function)\n",
    "    return mydict\n",
    "G=SymmetricGroup(3)"
   ]
  },
  {
   "cell_type": "code",
   "execution_count": 15,
   "metadata": {},
   "outputs": [
    {
     "data": {
      "text/latex": [
       "$$\\left[\\begin{matrix}0 & 0 & 0 & 0 & 1 & 0\\\\0 & 0 & 0 & 0 & 0 & 1\\\\0 & 1 & 0 & 0 & 0 & 0\\\\1 & 0 & 0 & 0 & 0 & 0\\\\0 & 0 & 0 & 1 & 0 & 0\\\\0 & 0 & 1 & 0 & 0 & 0\\end{matrix}\\right]$$"
      ]
     },
     "execution_count": 15,
     "metadata": {},
     "output_type": "execute_result"
    },
    {
     "data": {
      "text/latex": [
       "$$\\left[\\begin{matrix}0 & 0 & 1 & 0 & 0 & 0\\\\0 & 0 & 0 & 1 & 0 & 0\\\\1 & 0 & 0 & 0 & 0 & 0\\\\0 & 1 & 0 & 0 & 0 & 0\\\\0 & 0 & 0 & 0 & 0 & 1\\\\0 & 0 & 0 & 0 & 1 & 0\\end{matrix}\\right]$$"
      ]
     },
     "execution_count": 15,
     "metadata": {},
     "output_type": "execute_result"
    },
    {
     "data": {
      "text/latex": [
       "$$\\left[\\begin{matrix}0 & 0 & 0 & 0 & 0 & 1\\\\0 & 0 & 0 & 0 & 1 & 0\\\\0 & 0 & 0 & 1 & 0 & 0\\\\0 & 0 & 1 & 0 & 0 & 0\\\\0 & 1 & 0 & 0 & 0 & 0\\\\1 & 0 & 0 & 0 & 0 & 0\\end{matrix}\\right]$$"
      ]
     },
     "execution_count": 15,
     "metadata": {},
     "output_type": "execute_result"
    },
    {
     "data": {
      "text/latex": [
       "$$\\left[\\begin{matrix}1 & 0 & 0 & 0 & 0 & 0\\\\0 & 1 & 0 & 0 & 0 & 0\\\\0 & 0 & 1 & 0 & 0 & 0\\\\0 & 0 & 0 & 1 & 0 & 0\\\\0 & 0 & 0 & 0 & 1 & 0\\\\0 & 0 & 0 & 0 & 0 & 1\\end{matrix}\\right]$$"
      ]
     },
     "execution_count": 15,
     "metadata": {},
     "output_type": "execute_result"
    },
    {
     "data": {
      "text/latex": [
       "$$\\left[\\begin{matrix}0 & 0 & 0 & 1 & 0 & 0\\\\0 & 0 & 1 & 0 & 0 & 0\\\\0 & 0 & 0 & 0 & 0 & 1\\\\0 & 0 & 0 & 0 & 1 & 0\\\\1 & 0 & 0 & 0 & 0 & 0\\\\0 & 1 & 0 & 0 & 0 & 0\\end{matrix}\\right]$$"
      ]
     },
     "execution_count": 15,
     "metadata": {},
     "output_type": "execute_result"
    },
    {
     "data": {
      "text/latex": [
       "$$\\left[\\begin{matrix}0 & 1 & 0 & 0 & 0 & 0\\\\1 & 0 & 0 & 0 & 0 & 0\\\\0 & 0 & 0 & 0 & 1 & 0\\\\0 & 0 & 0 & 0 & 0 & 1\\\\0 & 0 & 1 & 0 & 0 & 0\\\\0 & 0 & 0 & 1 & 0 & 0\\end{matrix}\\right]$$"
      ]
     },
     "execution_count": 15,
     "metadata": {},
     "output_type": "execute_result"
    }
   ],
   "source": [
    "for g in regular_representation(G):\n",
    "    display(regular_representation(G)[g])"
   ]
  },
  {
   "cell_type": "code",
   "execution_count": 81,
   "metadata": {},
   "outputs": [
    {
     "name": "stdout",
     "output_type": "stream",
     "text": [
      "(1 2)\n",
      "(0 2 1)\n",
      "(2)(0 1)\n",
      "(2)\n",
      "(0 2)\n",
      "(0 1 2)\n"
     ]
    }
   ],
   "source": [
    "for g in range(0,G.order()):\n",
    "    print (list(G.elements)[g])"
   ]
  },
  {
   "cell_type": "code",
   "execution_count": 56,
   "metadata": {},
   "outputs": [
    {
     "name": "stdout",
     "output_type": "stream",
     "text": [
      "Matrix([[1, 0, 0, 0, 0, 0], [0, 1, 0, 0, 0, 0], [0, 0, 1, 0, 0, 0], [0, 0, 0, 1, 0, 0], [0, 0, 0, 0, 1, 0], [0, 0, 0, 0, 0, 1]])\n"
     ]
    }
   ],
   "source": [
    "A=zeros(6,6)\n",
    "for g in D:\n",
    "    J=Dagger(D[g])*D[g]\n",
    "    J.simplify()\n",
    "    A=J+A\n",
    "C=MTS(A)\n",
    "M= (C.inv())*D[G[0]]*C"
   ]
  },
  {
   "cell_type": "code",
   "execution_count": 14,
   "metadata": {},
   "outputs": [
    {
     "name": "stdout",
     "output_type": "stream",
     "text": [
      "(0 1 2)\n",
      "{Permutation(2): Matrix([\n",
      "[1, 0, 0, 0, 0, 0],\n",
      "[0, 1, 0, 0, 0, 0],\n",
      "[0, 0, 1, 0, 0, 0],\n",
      "[0, 0, 0, 1, 0, 0],\n",
      "[0, 0, 0, 0, 1, 0],\n",
      "[0, 0, 0, 0, 0, 1]]), Permutation(2)(0, 1): Matrix([\n",
      "[0, 1, 0, 0, 0, 0],\n",
      "[1, 0, 0, 0, 0, 0],\n",
      "[0, 0, 0, 0, 0, 1],\n",
      "[0, 0, 0, 0, 1, 0],\n",
      "[0, 0, 0, 1, 0, 0],\n",
      "[0, 0, 1, 0, 0, 0]]), Permutation(0, 2, 1): Matrix([\n",
      "[0, 0, 1, 0, 0, 0],\n",
      "[0, 0, 0, 1, 0, 0],\n",
      "[0, 0, 0, 0, 1, 0],\n",
      "[0, 0, 0, 0, 0, 1],\n",
      "[1, 0, 0, 0, 0, 0],\n",
      "[0, 1, 0, 0, 0, 0]]), Permutation(1, 2): Matrix([\n",
      "[0, 0, 0, 1, 0, 0],\n",
      "[0, 0, 1, 0, 0, 0],\n",
      "[0, 1, 0, 0, 0, 0],\n",
      "[1, 0, 0, 0, 0, 0],\n",
      "[0, 0, 0, 0, 0, 1],\n",
      "[0, 0, 0, 0, 1, 0]]), Permutation(0, 1, 2): Matrix([\n",
      "[0, 0, 0, 0, 1, 0],\n",
      "[0, 0, 0, 0, 0, 1],\n",
      "[1, 0, 0, 0, 0, 0],\n",
      "[0, 1, 0, 0, 0, 0],\n",
      "[0, 0, 1, 0, 0, 0],\n",
      "[0, 0, 0, 1, 0, 0]]), Permutation(0, 2): Matrix([\n",
      "[0, 0, 0, 0, 0, 1],\n",
      "[0, 0, 0, 0, 1, 0],\n",
      "[0, 0, 0, 1, 0, 0],\n",
      "[0, 0, 1, 0, 0, 0],\n",
      "[0, 1, 0, 0, 0, 0],\n",
      "[1, 0, 0, 0, 0, 0]])}\n"
     ]
    }
   ],
   "source": [
    "def unit(G):\n",
    "    D=regular_representation(G)\n",
    "    n=D[G[0]].shape[0]\n",
    "    A=zeros(n,n)\n",
    "    for g in D:\n",
    "        J=Dagger(D[g])*D[g]\n",
    "        J.simplify()\n",
    "        A=J+A\n",
    "    C=MTS(A)\n",
    "    M = {}\n",
    "    for g in list(G.elements):\n",
    "        M[g]=(C.inv())*D[g]*C\n",
    "    return M\n",
    "\n",
    "G=SymmetricGroup(3)\n",
    "B=unit(SymmetricGroup(3))\n",
    "print(list(G.elements)[4])\n",
    "print (B)"
   ]
  },
  {
   "cell_type": "code",
   "execution_count": 0,
   "metadata": {},
   "outputs": [],
   "source": []
  },
  {
   "cell_type": "code",
   "execution_count": 0,
   "metadata": {},
   "outputs": [],
   "source": []
  },
  {
   "cell_type": "code",
   "execution_count": 0,
   "metadata": {},
   "outputs": [],
   "source": []
  },
  {
   "cell_type": "code",
   "execution_count": 15,
   "metadata": {},
   "outputs": [],
   "source": [
    "def ME(G,Ers):\n",
    "    a=G.order()\n",
    "    E=zeros(a,a)\n",
    "    R=unit(G)\n",
    "    for g in R:\n",
    "        E=E+(Dagger(R[g])*Ers*R[g])\n",
    "    E=(sympify(1)/a)*E\n",
    "    return E"
   ]
  },
  {
   "cell_type": "code",
   "execution_count": 58,
   "metadata": {},
   "outputs": [
    {
     "data": {
      "text/latex": [
       "$$\\left[\\begin{matrix}1 & 0 & 0 & 0 & 0 & 0\\\\0 & 1 & 0 & 0 & 0 & 0\\\\0 & 0 & 1 & 0 & 0 & 0\\\\0 & 0 & 0 & 1 & 0 & 0\\\\0 & 0 & 0 & 0 & 1 & 0\\\\0 & 0 & 0 & 0 & 0 & 1\\end{matrix}\\right]$$"
      ]
     },
     "execution_count": 58,
     "metadata": {},
     "output_type": "execute_result"
    }
   ],
   "source": [
    "ME(SymmetricGroup(3),eye(6))"
   ]
  },
  {
   "cell_type": "code",
   "execution_count": 9,
   "metadata": {},
   "outputs": [
    {
     "ename": "IndentationError",
     "evalue": "expected an indented block (<ipython-input-9-a69f788548f8>, line 11)",
     "output_type": "error",
     "traceback": [
      "\u001b[0;36m  File \u001b[0;32m\"<ipython-input-9-a69f788548f8>\"\u001b[0;36m, line \u001b[0;32m11\u001b[0m\n\u001b[0;31m    else:\u001b[0m\n\u001b[0m       ^\u001b[0m\n\u001b[0;31mIndentationError\u001b[0m\u001b[0;31m:\u001b[0m expected an indented block\n"
     ]
    }
   ],
   "source": [
    "G=SymmetricGroup(3)\n",
    "n=G.order()\n",
    "for i in range(0,n):\n",
    "    Ers=zeros(n,n)\n",
    "    for j in range(0,n):\n",
    "        Ers[i,j]=1\n",
    "        M=ME(G,Ers)\n",
    "        for g in regular_representation(G):\n",
    "            if ((regular_representation(G)[g])*M == M*(regular_representation(G)[g])):\n",
    "                #print(1)\n",
    "            else:\n",
    "                #print(0)"
   ]
  },
  {
   "cell_type": "code",
   "execution_count": 96,
   "metadata": {},
   "outputs": [
    {
     "data": {
      "text/latex": [
       "$$\\left [ \\left [ \\left [ \\left[\\begin{matrix}6 & 5 & -2 & -3\\end{matrix}\\right], \\quad \\left[\\begin{matrix}-3 & -1 & 3 & 3\\end{matrix}\\right]\\right ], \\quad \\left[\\begin{matrix}2 & 1 & -2 & -3\\end{matrix}\\right]\\right ], \\quad \\left[\\begin{matrix}-1 & 1 & 5 & 5\\end{matrix}\\right]\\right ]$$"
      ]
     },
     "execution_count": 96,
     "metadata": {},
     "output_type": "execute_result"
    }
   ],
   "source": [
    "from sympy import Matrix\n",
    "m = Matrix(4, 4, [6, 5, -2, -3, -3, -1, 3, 3, 2, 1, -2, -3, -1, 1, 5, 5])\n",
    "#v1=Matrix(1,4, [6, 5, -2, -3])\n",
    "#v2=Matrix(1,4, [-3, -1, 3, 3])\n",
    "#v3=Matrix(1,4, [ 2, 1, -2, -3])\n",
    "#v4=Matrix(1,4, [-1, 1, 5, 5])\n",
    "#m = Matrix([v1,v2,v3,v4])\n",
    "#display(m)\n",
    "#m.row(0)\n",
    "v=Matrix([m.row(0)])\n",
    "for g in range(1,4):\n",
    "    n=Matrix([m.row(g)])\n",
    "    v=[v,n]\n",
    "v"
   ]
  },
  {
   "cell_type": "code",
   "execution_count": 47,
   "metadata": {},
   "outputs": [
    {
     "data": {
      "text/latex": [
       "$$\\left [ \\left[\\begin{matrix}6 & 5 & -2 & -3\\end{matrix}\\right], \\quad \\left[\\begin{matrix}-3 & -1 & 3 & 3\\end{matrix}\\right], \\quad \\left[\\begin{matrix}2 & 1 & -2 & -3\\end{matrix}\\right], \\quad \\left[\\begin{matrix}-1 & 1 & 5 & 5\\end{matrix}\\right]\\right ]$$"
      ]
     },
     "execution_count": 47,
     "metadata": {},
     "output_type": "execute_result"
    }
   ],
   "source": [
    "from sympy import Matrix\n",
    "m = Matrix(4, 4, [6, 5, -2, -3, -3, -1, 3, 3, 2, 1, -2, -3, -1, 1, 5, 5])\n",
    "#v1=Matrix(1,4, [6, 5, -2, -3])\n",
    "#v2=Matrix(1,4, [-3, -1, 3, 3])\n",
    "#v3=Matrix(1,4, [ 2, 1, -2, -3])\n",
    "#v4=Matrix(1,4, [-1, 1, 5, 5])\n",
    "#m = Matrix([v1,v2,v3,v4])\n",
    "#display(m)\n",
    "##########\n",
    "#m.row(0)\n",
    "#v1=Matrix([m.row(0)])\n",
    "#v2=Matrix([m.row(1)])\n",
    "#v=[v1,v2]\n",
    "#v.append(v1)\n",
    "v=[]\n",
    "for g in range(0,4):\n",
    "    h=Matrix([m.row(g)])\n",
    "    v.append(h)\n",
    "v"
   ]
  },
  {
   "cell_type": "markdown",
   "metadata": {},
   "source": [
    "(P, Jcells) = m.jordan_cells()\n",
    "Jcells[0]\n",
    "Jcells[1]"
   ]
  },
  {
   "cell_type": "code",
   "execution_count": 45,
   "metadata": {},
   "outputs": [
    {
     "data": {
      "text/latex": [
       "$$\\left[\\begin{matrix}4 & 1 & 5 & 0\\\\-3 & 0 & -3 & 1\\\\2 & 0 & 1 & 0\\\\-1 & 0 & 1 & 0\\end{matrix}\\right]$$"
      ]
     },
     "execution_count": 45,
     "metadata": {},
     "output_type": "execute_result"
    }
   ],
   "source": [
    "(P, J) = m.jordan_form()\n",
    "#J=P.inv()*m*P\n",
    "P.inv()*m*P\n",
    "P"
   ]
  },
  {
   "cell_type": "code",
   "execution_count": 0,
   "metadata": {},
   "outputs": [],
   "source": [
    "for g in regular_representation(G):\n",
    "    M = P.inverse()*(regular_representation(G)[g])*P\n",
    "    display(M)"
   ]
  },
  {
   "cell_type": "code",
   "execution_count": 38,
   "metadata": {},
   "outputs": [
    {
     "data": {
      "text/latex": [
       "$$\\left[\\begin{matrix}\\frac{\\sqrt{38}}{19}\\\\\\frac{3 \\sqrt{38}}{38}\\\\\\frac{5 \\sqrt{38}}{38}\\end{matrix}\\right]$$"
      ]
     },
     "execution_count": 38,
     "metadata": {},
     "output_type": "execute_result"
    }
   ],
   "source": [
    "from sympy.matrices import GramSchmidt\n",
    "L = [Matrix([2,3,5]), Matrix([3,6,2]), Matrix([8,3,6])]\n",
    "out1 = GramSchmidt(L,true) #True hace que las salidas estén normalizadas\n",
    "out1[0]"
   ]
  },
  {
   "cell_type": "code",
   "execution_count": 21,
   "metadata": {},
   "outputs": [
    {
     "data": {
      "text/latex": [
       "$$\\left [ \\left[\\begin{matrix}\\frac{3 \\sqrt{74}}{37} & \\frac{5 \\sqrt{74}}{74} & - \\frac{\\sqrt{74}}{37} & - \\frac{3 \\sqrt{74}}{74}\\end{matrix}\\right], \\quad \\left[\\begin{matrix}\\frac{3 \\sqrt{11618}}{11618} & \\frac{29 \\sqrt{11618}}{5809} & \\frac{73 \\sqrt{11618}}{11618} & \\frac{27 \\sqrt{11618}}{5809}\\end{matrix}\\right], \\quad \\left[\\begin{matrix}- \\frac{29 \\sqrt{1099}}{2198} & \\frac{15 \\sqrt{1099}}{2198} & \\frac{27 \\sqrt{1099}}{2198} & - \\frac{51 \\sqrt{1099}}{2198}\\end{matrix}\\right], \\quad \\left[\\begin{matrix}\\frac{3 \\sqrt{7}}{14} & - \\frac{3 \\sqrt{7}}{14} & \\frac{3 \\sqrt{7}}{14} & - \\frac{\\sqrt{7}}{14}\\end{matrix}\\right]\\right ]$$"
      ]
     },
     "execution_count": 21,
     "metadata": {},
     "output_type": "execute_result"
    }
   ],
   "source": [
    "out1"
   ]
  },
  {
   "cell_type": "code",
   "execution_count": 69,
   "metadata": {},
   "outputs": [
    {
     "data": {
      "text/latex": [
       "$$\\left[\\begin{matrix}\\frac{2 \\sqrt{77}}{77} & \\frac{45 \\sqrt{15862}}{15862} & \\frac{13 \\sqrt{206}}{206}\\\\\\frac{3 \\sqrt{77}}{77} & \\frac{53 \\sqrt{15862}}{7931} & - \\frac{3 \\sqrt{206}}{103}\\\\\\frac{8 \\sqrt{77}}{77} & - \\frac{51 \\sqrt{15862}}{15862} & - \\frac{\\sqrt{206}}{206}\\end{matrix}\\right]$$"
      ]
     },
     "execution_count": 69,
     "metadata": {},
     "output_type": "execute_result"
    }
   ],
   "source": [
    "m = Matrix([[2,3,5], [3,6,2], [8,3,6]])\n",
    "n=m.shape[0]\n",
    "v=[]\n",
    "for i in range(0,n):\n",
    "    h=Matrix([(m.T).row(i)])\n",
    "    v.append(h)\n",
    "v1 = GramSchmidt(v,True)\n",
    "v2=Matrix([v1[0]])\n",
    "for i in range(1,n):\n",
    "    v2=Matrix([v2,v1[i]])\n",
    "v2.T"
   ]
  },
  {
   "cell_type": "code",
   "execution_count": 16,
   "metadata": {},
   "outputs": [
    {
     "data": {
      "text/latex": [
       "$$\\left ( \\left[\\begin{matrix}-1 & -1 & -1 & -1 & -1 & 1\\\\1 & 0 & 0 & 0 & 0 & 1\\\\0 & 1 & 0 & 0 & 0 & 1\\\\0 & 0 & 1 & 0 & 0 & 1\\\\0 & 0 & 0 & 1 & 0 & 1\\\\0 & 0 & 0 & 0 & 1 & 1\\end{matrix}\\right], \\quad \\left[\\begin{matrix}- \\frac{\\sqrt{2}}{2} & - \\frac{\\sqrt{6}}{6} & - \\frac{\\sqrt{3}}{6} & - \\frac{\\sqrt{5}}{10} & - \\frac{\\sqrt{30}}{30} & \\frac{\\sqrt{6}}{6}\\\\\\frac{\\sqrt{2}}{2} & - \\frac{\\sqrt{6}}{6} & - \\frac{\\sqrt{3}}{6} & - \\frac{\\sqrt{5}}{10} & - \\frac{\\sqrt{30}}{30} & \\frac{\\sqrt{6}}{6}\\\\0 & \\frac{\\sqrt{6}}{3} & - \\frac{\\sqrt{3}}{6} & - \\frac{\\sqrt{5}}{10} & - \\frac{\\sqrt{30}}{30} & \\frac{\\sqrt{6}}{6}\\\\0 & 0 & \\frac{\\sqrt{3}}{2} & - \\frac{\\sqrt{5}}{10} & - \\frac{\\sqrt{30}}{30} & \\frac{\\sqrt{6}}{6}\\\\0 & 0 & 0 & \\frac{2 \\sqrt{5}}{5} & - \\frac{\\sqrt{30}}{30} & \\frac{\\sqrt{6}}{6}\\\\0 & 0 & 0 & 0 & \\frac{\\sqrt{30}}{6} & \\frac{\\sqrt{6}}{6}\\end{matrix}\\right]\\right )$$"
      ]
     },
     "execution_count": 16,
     "metadata": {},
     "output_type": "execute_result"
    }
   ],
   "source": [
    "#Vamos a intentar poner todo junto.\n",
    "#Despues de la función ME debe ir esto:\n",
    "G=SymmetricGroup(3)\n",
    "n=G.order()\n",
    "for i in range(0,n):\n",
    "    Ers=zeros(n,n)\n",
    "    for j in range(0,n):\n",
    "        Ers[i,j]=1\n",
    "        M=ME(G,Ers)\n",
    "#display(M)\n",
    "#Nos vamos a quedar con una matriz, en este caso con la última M generada que no es escalar, y que además conmuta con cualquier elemento de la representación regular.\n",
    "#Y procederemos a encontrar la matriz P tal que P^(-1)*M*P=J, donde J es diagonal por bloques.\n",
    "(P, J) = M.jordan_form()\n",
    "#P\n",
    "#Ahora, para que P sea unitaria debemos normalizarla, por ello se utilizará Gramschmidt.\n",
    "#n=P.shape[0]\n",
    "#(P.T).row(0)\n",
    "v=[]\n",
    "for i in range(0,n):\n",
    "    h=Matrix([(P.T).row(i)])\n",
    "    v.append(h)\n",
    "v1 = GramSchmidt(v,True)\n",
    "Q=Matrix([v1[0]])\n",
    "for i in range(1,n):\n",
    "    Q=Matrix([Q,v1[i]])\n",
    "Q=Q.T\n",
    "P, Q"
   ]
  },
  {
   "cell_type": "code",
   "execution_count": 17,
   "metadata": {},
   "outputs": [
    {
     "data": {
      "text/latex": [
       "$$\\left( 2\\right)$$"
      ]
     },
     "execution_count": 17,
     "metadata": {},
     "output_type": "execute_result"
    },
    {
     "data": {
      "text/latex": [
       "$$\\left[\\begin{matrix}1 & 0 & 0 & 0 & 0 & 0\\\\0 & 1 & 0 & 0 & 0 & 0\\\\0 & 0 & 1 & 0 & 0 & 0\\\\0 & 0 & 0 & 1 & 0 & 0\\\\0 & 0 & 0 & 0 & 1 & 0\\\\0 & 0 & 0 & 0 & 0 & 1\\end{matrix}\\right]$$"
      ]
     },
     "execution_count": 17,
     "metadata": {},
     "output_type": "execute_result"
    },
    {
     "data": {
      "text/latex": [
       "$$\\left( 0\\; 1\\right)\\left( 2\\right)$$"
      ]
     },
     "execution_count": 17,
     "metadata": {},
     "output_type": "execute_result"
    },
    {
     "data": {
      "text/latex": [
       "$$\\left[\\begin{matrix}-1 & -1 & -1 & -1 & -1 & 0\\\\0 & 0 & 0 & 0 & 1 & 0\\\\0 & 0 & 0 & 1 & 0 & 0\\\\0 & 0 & 1 & 0 & 0 & 0\\\\0 & 1 & 0 & 0 & 0 & 0\\\\0 & 0 & 0 & 0 & 0 & 1\\end{matrix}\\right]$$"
      ]
     },
     "execution_count": 17,
     "metadata": {},
     "output_type": "execute_result"
    },
    {
     "data": {
      "text/latex": [
       "$$\\left( 0\\; 2\\; 1\\right)$$"
      ]
     },
     "execution_count": 17,
     "metadata": {},
     "output_type": "execute_result"
    },
    {
     "data": {
      "text/latex": [
       "$$\\left[\\begin{matrix}0 & 0 & 1 & 0 & 0 & 0\\\\0 & 0 & 0 & 1 & 0 & 0\\\\0 & 0 & 0 & 0 & 1 & 0\\\\-1 & -1 & -1 & -1 & -1 & 0\\\\1 & 0 & 0 & 0 & 0 & 0\\\\0 & 0 & 0 & 0 & 0 & 1\\end{matrix}\\right]$$"
      ]
     },
     "execution_count": 17,
     "metadata": {},
     "output_type": "execute_result"
    },
    {
     "data": {
      "text/latex": [
       "$$\\left( 1\\; 2\\right)$$"
      ]
     },
     "execution_count": 17,
     "metadata": {},
     "output_type": "execute_result"
    },
    {
     "data": {
      "text/latex": [
       "$$\\left[\\begin{matrix}0 & 1 & 0 & 0 & 0 & 0\\\\1 & 0 & 0 & 0 & 0 & 0\\\\-1 & -1 & -1 & -1 & -1 & 0\\\\0 & 0 & 0 & 0 & 1 & 0\\\\0 & 0 & 0 & 1 & 0 & 0\\\\0 & 0 & 0 & 0 & 0 & 1\\end{matrix}\\right]$$"
      ]
     },
     "execution_count": 17,
     "metadata": {},
     "output_type": "execute_result"
    },
    {
     "data": {
      "text/latex": [
       "$$\\left( 0\\; 1\\; 2\\right)$$"
      ]
     },
     "execution_count": 17,
     "metadata": {},
     "output_type": "execute_result"
    },
    {
     "data": {
      "text/latex": [
       "$$\\left[\\begin{matrix}0 & 0 & 0 & 0 & 1 & 0\\\\-1 & -1 & -1 & -1 & -1 & 0\\\\1 & 0 & 0 & 0 & 0 & 0\\\\0 & 1 & 0 & 0 & 0 & 0\\\\0 & 0 & 1 & 0 & 0 & 0\\\\0 & 0 & 0 & 0 & 0 & 1\\end{matrix}\\right]$$"
      ]
     },
     "execution_count": 17,
     "metadata": {},
     "output_type": "execute_result"
    },
    {
     "data": {
      "text/latex": [
       "$$\\left( 0\\; 2\\right)$$"
      ]
     },
     "execution_count": 17,
     "metadata": {},
     "output_type": "execute_result"
    },
    {
     "data": {
      "text/latex": [
       "$$\\left[\\begin{matrix}0 & 0 & 0 & 1 & 0 & 0\\\\0 & 0 & 1 & 0 & 0 & 0\\\\0 & 1 & 0 & 0 & 0 & 0\\\\1 & 0 & 0 & 0 & 0 & 0\\\\-1 & -1 & -1 & -1 & -1 & 0\\\\0 & 0 & 0 & 0 & 0 & 1\\end{matrix}\\right]$$"
      ]
     },
     "execution_count": 17,
     "metadata": {},
     "output_type": "execute_result"
    }
   ],
   "source": [
    "G=SymmetricGroup(3)\n",
    "n=G.order()\n",
    "for g in regular_representation(G):\n",
    "    T=P.inv()*(regular_representation(G)[g])*P\n",
    "    display(g,T)"
   ]
  },
  {
   "cell_type": "code",
   "execution_count": 27,
   "metadata": {},
   "outputs": [
    {
     "data": {
      "text/latex": [
       "$$\\left \\{ \\left( 3\\right) : \\left[\\begin{matrix}1 & 0 & 0 & 0\\\\0 & 1 & 0 & 0\\\\0 & 0 & 1 & 0\\\\0 & 0 & 0 & 1\\end{matrix}\\right], \\quad \\left( 1\\; 3\\right) : \\left[\\begin{matrix}1 & 0 & 0 & 0\\\\0 & 0 & 0 & 1\\\\0 & 0 & 1 & 0\\\\0 & 1 & 0 & 0\\end{matrix}\\right], \\quad \\left( 0\\; 1\\right)\\left( 2\\; 3\\right) : \\left[\\begin{matrix}0 & 1 & 0 & 0\\\\1 & 0 & 0 & 0\\\\0 & 0 & 0 & 1\\\\0 & 0 & 1 & 0\\end{matrix}\\right], \\quad \\left( 0\\; 1\\; 2\\; 3\\right) : \\left[\\begin{matrix}0 & 1 & 0 & 0\\\\0 & 0 & 1 & 0\\\\0 & 0 & 0 & 1\\\\1 & 0 & 0 & 0\\end{matrix}\\right], \\quad \\left( 0\\; 2\\right)\\left( 3\\right) : \\left[\\begin{matrix}0 & 0 & 1 & 0\\\\0 & 1 & 0 & 0\\\\1 & 0 & 0 & 0\\\\0 & 0 & 0 & 1\\end{matrix}\\right], \\quad \\left( 0\\; 2\\right)\\left( 1\\; 3\\right) : \\left[\\begin{matrix}0 & 0 & 1 & 0\\\\0 & 0 & 0 & 1\\\\1 & 0 & 0 & 0\\\\0 & 1 & 0 & 0\\end{matrix}\\right], \\quad \\left( 0\\; 3\\; 2\\; 1\\right) : \\left[\\begin{matrix}0 & 0 & 0 & 1\\\\1 & 0 & 0 & 0\\\\0 & 1 & 0 & 0\\\\0 & 0 & 1 & 0\\end{matrix}\\right], \\quad \\left( 0\\; 3\\right)\\left( 1\\; 2\\right) : \\left[\\begin{matrix}0 & 0 & 0 & 1\\\\0 & 0 & 1 & 0\\\\0 & 1 & 0 & 0\\\\1 & 0 & 0 & 0\\end{matrix}\\right]\\right \\}$$"
      ]
     },
     "execution_count": 27,
     "metadata": {},
     "output_type": "execute_result"
    }
   ],
   "source": [
    "#Vamos a revisar con la representación permutación.\n",
    "from sympy.combinatorics.named_groups import DihedralGroup\n",
    "def rho(G):\n",
    "    D={}\n",
    "    for g in list(G.elements):\n",
    "        n=max(g)+1\n",
    "        M=eye(n)\n",
    "        N=eye(n)\n",
    "        for i in range(0,n):\n",
    "            for j in range(0,n):\n",
    "                N[i,j]=M[g(i),j]\n",
    "        D[g]=N\n",
    "    return D\n",
    "H=DihedralGroup(4)\n",
    "rho(H)"
   ]
  },
  {
   "cell_type": "code",
   "execution_count": 44,
   "metadata": {},
   "outputs": [],
   "source": [
    "def unit1(G):\n",
    "    D=rho(G)\n",
    "    #n=D[G[0]].shape[0]\n",
    "    n=4\n",
    "    A=zeros(n,n)\n",
    "    for g in D:\n",
    "        J=Dagger(D[g])*D[g]\n",
    "        J.simplify()\n",
    "        A=J+A\n",
    "    C=MTS(A)\n",
    "    M = {}\n",
    "    for g in list(G.elements):\n",
    "        M[g]=(C.inv())*D[g]*C\n",
    "    return M"
   ]
  },
  {
   "cell_type": "code",
   "execution_count": 66,
   "metadata": {},
   "outputs": [],
   "source": [
    "def ME1(G,Ers):\n",
    "    D=rho(G)\n",
    "    a=D[G[0]].shape[0]\n",
    "    E=zeros(a,a)\n",
    "    R=unit1(G)\n",
    "    for g in R:\n",
    "        E=E+(Dagger(R[g])*Ers*R[g])\n",
    "    E=(sympify(1)/a)*E\n",
    "    return E"
   ]
  },
  {
   "cell_type": "code",
   "execution_count": 67,
   "metadata": {},
   "outputs": [
    {
     "data": {
      "text/latex": [
       "$$\\left[\\begin{matrix}2 & 0 & 0 & 0\\\\0 & 2 & 0 & 0\\\\0 & 0 & 2 & 0\\\\0 & 0 & 0 & 2\\end{matrix}\\right]$$"
      ]
     },
     "execution_count": 67,
     "metadata": {},
     "output_type": "execute_result"
    }
   ],
   "source": [
    "ME1(DihedralGroup(4),eye(4))"
   ]
  },
  {
   "cell_type": "code",
   "execution_count": 76,
   "metadata": {},
   "outputs": [
    {
     "data": {
      "text/latex": [
       "$$\\left ( \\left[\\begin{matrix}\\frac{1}{2} & \\frac{1}{2} & \\frac{1}{2} & \\frac{1}{2}\\\\\\frac{1}{2} & \\frac{1}{2} & \\frac{1}{2} & \\frac{1}{2}\\\\\\frac{1}{2} & \\frac{1}{2} & \\frac{1}{2} & \\frac{1}{2}\\\\\\frac{1}{2} & \\frac{1}{2} & \\frac{1}{2} & \\frac{1}{2}\\end{matrix}\\right], \\quad \\left[\\begin{matrix}- \\frac{1}{2} & \\frac{\\sqrt{2}}{2} & - \\frac{\\sqrt{6}}{6} & - \\frac{\\sqrt{3}}{6}\\\\- \\frac{1}{2} & 0 & \\frac{\\sqrt{6}}{3} & - \\frac{\\sqrt{3}}{6}\\\\- \\frac{1}{2} & 0 & 0 & \\frac{\\sqrt{3}}{2}\\\\\\frac{1}{2} & \\frac{\\sqrt{2}}{2} & \\frac{\\sqrt{6}}{6} & \\frac{\\sqrt{3}}{6}\\end{matrix}\\right], \\quad \\left[\\begin{matrix}-1 & -1 & -1 & 1\\\\1 & 0 & 0 & 1\\\\0 & 1 & 0 & 1\\\\0 & 0 & 1 & 1\\end{matrix}\\right]\\right )$$"
      ]
     },
     "execution_count": 76,
     "metadata": {},
     "output_type": "execute_result"
    }
   ],
   "source": [
    "#Vamos a intentar poner todo junto.\n",
    "#Despues de la función ME1 debe ir esto:\n",
    "H=DihedralGroup(4)\n",
    "K=rho(H)\n",
    "#n=K[Permutation(0, 1, 2)].shape[0]\n",
    "n=4\n",
    "for i in range(0,n):\n",
    "    Ers=zeros(n,n)\n",
    "    for j in range(0,n):\n",
    "        Ers[i,j]=1\n",
    "        M=ME1(H,Ers)\n",
    "\n",
    "#display(M)\n",
    "#Nos vamos a quedar con una matriz, en este caso con la última M generada que no es escalar, y que además conmuta con cualquier elemento de la representación regular.\n",
    "#Y procederemos a encontrar la matriz P tal que P^(-1)*M*P=J, donde J es diagonal por bloques.\n",
    "(P, J) = M.jordan_form()\n",
    "#P\n",
    "#Ahora, para que P sea unitaria debemos normalizarla, por ello se utilizará Gramschmidt.\n",
    "#n=P.shape[0]\n",
    "#(P.T).row(0)\n",
    "v=[]\n",
    "for i in range(0,n):\n",
    "    h=Matrix([(P).row(i)])\n",
    "    v.append(h)\n",
    "v1 = GramSchmidt(v,True)\n",
    "Q=Matrix([v1[0]])\n",
    "for i in range(1,n):\n",
    "    Q=Matrix([Q,v1[i]])\n",
    "Q=Q.T\n",
    "M, Q, P"
   ]
  },
  {
   "cell_type": "code",
   "execution_count": 77,
   "metadata": {},
   "outputs": [
    {
     "data": {
      "text/latex": [
       "$$\\left( 3\\right)$$"
      ]
     },
     "execution_count": 77,
     "metadata": {},
     "output_type": "execute_result"
    },
    {
     "data": {
      "text/latex": [
       "$$\\left[\\begin{matrix}1 & 0 & 0 & 0\\\\0 & 1 & 0 & 0\\\\0 & 0 & 1 & 0\\\\0 & 0 & 0 & 1\\end{matrix}\\right]$$"
      ]
     },
     "execution_count": 77,
     "metadata": {},
     "output_type": "execute_result"
    },
    {
     "data": {
      "text/latex": [
       "$$\\left( 0\\; 3\\right)\\left( 1\\; 2\\right)$$"
      ]
     },
     "execution_count": 77,
     "metadata": {},
     "output_type": "execute_result"
    },
    {
     "data": {
      "text/latex": [
       "$$\\left[\\begin{matrix}0 & 1 & 0 & 0\\\\1 & 0 & 0 & 0\\\\-1 & -1 & -1 & 0\\\\0 & 0 & 0 & 1\\end{matrix}\\right]$$"
      ]
     },
     "execution_count": 77,
     "metadata": {},
     "output_type": "execute_result"
    },
    {
     "data": {
      "text/latex": [
       "$$\\left( 0\\; 1\\right)\\left( 2\\; 3\\right)$$"
      ]
     },
     "execution_count": 77,
     "metadata": {},
     "output_type": "execute_result"
    },
    {
     "data": {
      "text/latex": [
       "$$\\left[\\begin{matrix}-1 & -1 & -1 & 0\\\\0 & 0 & 1 & 0\\\\0 & 1 & 0 & 0\\\\0 & 0 & 0 & 1\\end{matrix}\\right]$$"
      ]
     },
     "execution_count": 77,
     "metadata": {},
     "output_type": "execute_result"
    },
    {
     "data": {
      "text/latex": [
       "$$\\left( 0\\; 2\\right)\\left( 1\\; 3\\right)$$"
      ]
     },
     "execution_count": 77,
     "metadata": {},
     "output_type": "execute_result"
    },
    {
     "data": {
      "text/latex": [
       "$$\\left[\\begin{matrix}0 & 0 & 1 & 0\\\\-1 & -1 & -1 & 0\\\\1 & 0 & 0 & 0\\\\0 & 0 & 0 & 1\\end{matrix}\\right]$$"
      ]
     },
     "execution_count": 77,
     "metadata": {},
     "output_type": "execute_result"
    },
    {
     "data": {
      "text/latex": [
       "$$\\left( 0\\; 1\\; 2\\; 3\\right)$$"
      ]
     },
     "execution_count": 77,
     "metadata": {},
     "output_type": "execute_result"
    },
    {
     "data": {
      "text/latex": [
       "$$\\left[\\begin{matrix}0 & 1 & 0 & 0\\\\0 & 0 & 1 & 0\\\\-1 & -1 & -1 & 0\\\\0 & 0 & 0 & 1\\end{matrix}\\right]$$"
      ]
     },
     "execution_count": 77,
     "metadata": {},
     "output_type": "execute_result"
    },
    {
     "data": {
      "text/latex": [
       "$$\\left( 0\\; 2\\right)\\left( 3\\right)$$"
      ]
     },
     "execution_count": 77,
     "metadata": {},
     "output_type": "execute_result"
    },
    {
     "data": {
      "text/latex": [
       "$$\\left[\\begin{matrix}1 & 0 & 0 & 0\\\\-1 & -1 & -1 & 0\\\\0 & 0 & 1 & 0\\\\0 & 0 & 0 & 1\\end{matrix}\\right]$$"
      ]
     },
     "execution_count": 77,
     "metadata": {},
     "output_type": "execute_result"
    },
    {
     "data": {
      "text/latex": [
       "$$\\left( 1\\; 3\\right)$$"
      ]
     },
     "execution_count": 77,
     "metadata": {},
     "output_type": "execute_result"
    },
    {
     "data": {
      "text/latex": [
       "$$\\left[\\begin{matrix}0 & 0 & 1 & 0\\\\0 & 1 & 0 & 0\\\\1 & 0 & 0 & 0\\\\0 & 0 & 0 & 1\\end{matrix}\\right]$$"
      ]
     },
     "execution_count": 77,
     "metadata": {},
     "output_type": "execute_result"
    },
    {
     "data": {
      "text/latex": [
       "$$\\left( 0\\; 3\\; 2\\; 1\\right)$$"
      ]
     },
     "execution_count": 77,
     "metadata": {},
     "output_type": "execute_result"
    },
    {
     "data": {
      "text/latex": [
       "$$\\left[\\begin{matrix}-1 & -1 & -1 & 0\\\\1 & 0 & 0 & 0\\\\0 & 1 & 0 & 0\\\\0 & 0 & 0 & 1\\end{matrix}\\right]$$"
      ]
     },
     "execution_count": 77,
     "metadata": {},
     "output_type": "execute_result"
    }
   ],
   "source": [
    "G=DihedralGroup(4)\n",
    "n=G.order()\n",
    "for g in rho(G):\n",
    "    T=P.inv()*(rho(G)[g])*P\n",
    "    display(g,T)"
   ]
  },
  {
   "cell_type": "code",
   "execution_count": 8,
   "metadata": {},
   "outputs": [
    {
     "data": {
      "text/latex": [
       "$$1$$"
      ]
     },
     "execution_count": 8,
     "metadata": {},
     "output_type": "execute_result"
    }
   ],
   "source": [
    "Abs(-1)"
   ]
  },
  {
   "cell_type": "code",
   "execution_count": 7,
   "metadata": {},
   "outputs": [
    {
     "data": {
      "text/latex": [
       "$$\\left[\\begin{matrix}1 & 0 & 0 & 0 & 0 & 0 & 0 & 0 & 0 & 0\\\\0 & 1 & 0 & 0 & 0 & 0 & 0 & 0 & 0 & 0\\\\0 & 0 & 1 & 0 & 1 & 0 & 0 & 0 & 0 & 0\\\\0 & 0 & 0 & 1 & 0 & 0 & 1 & 0 & 0 & 0\\\\0 & 0 & 1 & 0 & 1 & 0 & 0 & 0 & 0 & 0\\\\0 & 0 & 0 & 0 & 0 & 1 & 0 & 0 & 0 & 0\\\\0 & 0 & 0 & 1 & 0 & 0 & 1 & 0 & 0 & 0\\\\0 & 0 & 0 & 0 & 0 & 0 & 0 & 1 & 0 & 0\\\\0 & 0 & 0 & 0 & 0 & 0 & 0 & 0 & 1 & 0\\\\0 & 0 & 0 & 0 & 0 & 0 & 0 & 0 & 0 & 1\\end{matrix}\\right]$$"
      ]
     },
     "execution_count": 7,
     "metadata": {},
     "output_type": "execute_result"
    }
   ],
   "source": [
    "M=eye(10)\n",
    "M[2,4]=M[4,2]=1\n",
    "M[6,3]=M[3,6]=1\n",
    "display(M)"
   ]
  },
  {
   "cell_type": "code",
   "execution_count": 22,
   "metadata": {},
   "outputs": [],
   "source": [
    "def block(M):\n",
    "    v=[]\n",
    "    c1=0\n",
    "    i=0\n",
    "    n=M.shape[0]\n",
    "    while (c1<n):\n",
    "        c=0\n",
    "        for j in range(c1,n):\n",
    "            if (M[i,j]!=0 or M[j,i]!=0):\n",
    "                if (Abs(i-j)>c):\n",
    "                    c=Abs(i-j)\n",
    "        if (c==0):\n",
    "            v.append(c1)\n",
    "            c1=c1+1\n",
    "            i=c1\n",
    "        else:\n",
    "            bloques=False\n",
    "            while (bloques==False):\n",
    "                bloques=True\n",
    "                for j in range(c1,c1+c+1):\n",
    "                    for k in range(c1+c+1,n):\n",
    "                         if (M[j,k]!=0 or M[k,j]!=0):\n",
    "                            if (Abs(i-k)>c):\n",
    "                                c=Abs(i-k)\n",
    "            v.append(c1+c)\n",
    "            c1=c1+c+1\n",
    "            i=c1\n",
    "    return v"
   ]
  },
  {
   "cell_type": "code",
   "execution_count": 29,
   "metadata": {},
   "outputs": [
    {
     "data": {
      "text/latex": [
       "$$\\left [ 4, \\quad 5\\right ]$$"
      ]
     },
     "execution_count": 29,
     "metadata": {},
     "output_type": "execute_result"
    }
   ],
   "source": [
    "G=list(SymmetricGroup(3).elements)\n",
    "n=SymmetricGroup(3).order()\n",
    "g=G[0]\n",
    "if (g != SymmetricGroup(3).identity()):\n",
    "    T= P.inv()*(regular_representation(SymmetricGroup(3))[g])*P\n",
    "    display(block(T))\n",
    "else:\n",
    "    T= P.inv()*(regular_representation(SymmetricGroup(3))[G[1]])*P\n",
    "    display(block(T))"
   ]
  },
  {
   "cell_type": "code",
   "execution_count": 25,
   "metadata": {},
   "outputs": [
    {
     "data": {
      "text/latex": [
       "$$\\left( 2\\right)$$"
      ]
     },
     "execution_count": 25,
     "metadata": {},
     "output_type": "execute_result"
    }
   ],
   "source": [
    "G.identity()"
   ]
  },
  {
   "cell_type": "code",
   "execution_count": 1,
   "metadata": {},
   "outputs": [],
   "source": [
    "from sympy import *\n",
    "import random\n",
    "from sympy.combinatorics.named_groups import SymmetricGroup\n",
    "init_printing()\n",
    "from sympy.physics.quantum.dagger import Dagger\n",
    "from sympy.combinatorics.named_groups import DihedralGroup\n",
    "from sympy.matrices import Matrix\n",
    "from sympy.matrices import GramSchmidt\n",
    "from sympy import BlockMatrix\n",
    "from sympy import Symbol, I\n",
    "def ublock(M,N):\n",
    "    \"\"\"ublock hace una matriz diagonal por bloques con dos matrices dadas\"\"\"\n",
    "    m=M.shape[0]\n",
    "    n=N.shape[0]\n",
    "    l=m+n\n",
    "    L=zeros(l,l)\n",
    "    for i in range(l):\n",
    "        for j in range(l):\n",
    "            if (i<m and j<m):\n",
    "                L[i,j]=M[i,j]\n",
    "            if (i>=m and j>=m):\n",
    "                L[i,j]=N[i-m,j-m]\n",
    "    return L\n",
    "def MTS(A):\n",
    "    \"\"\"Calcula una matriz triangular superior\"\"\"\n",
    "    A1=A\n",
    "    n=A.shape[0]\n",
    "    V=eye(n)\n",
    "    for i in range(0,n):\n",
    "        C=eye(n)\n",
    "        C[i,i]=1/sqrt(A1[i,i])\n",
    "        for j in range(i+1,n):\n",
    "            C[i,j] = -(1/A1[i,i])*A1[i,j]\n",
    "        V=V*C\n",
    "        V.simplify()\n",
    "        A1=Dagger(C)*A1*C\n",
    "        A1.simplify()\n",
    "    return V\n",
    "def regular_representation(G):\n",
    "    elems = list(G.elements)\n",
    "    n = len(elems)\n",
    "    def char_function(i, j):\n",
    "        if elems[i]*g == elems[j]:\n",
    "            return 1\n",
    "        else:\n",
    "            return 0\n",
    "    mydict = {}\n",
    "    for g in elems:\n",
    "        mydict[g] = Matrix(n, n, char_function)\n",
    "    return mydict\n",
    "def rho(G):\n",
    "    D={}\n",
    "    for g in list(G.elements):\n",
    "        n=max(g)+1\n",
    "        M=eye(n)\n",
    "        N=eye(n)\n",
    "        for i in range(0,n):\n",
    "            for j in range(0,n):\n",
    "                N[i,j]=M[g(i),j]\n",
    "        D[g]=N\n",
    "    return D\n",
    "def unit(G,D):\n",
    "    \"\"\"Hace unitaria la representación\"\"\"\n",
    "    n=D[G[0]].shape[0]\n",
    "    A=zeros(n,n)\n",
    "    for g in D:\n",
    "        J=Dagger(D[g])*D[g]\n",
    "        J.simplify()\n",
    "        A=J+A\n",
    "    C=MTS(A)\n",
    "    M = {}\n",
    "    for g in list(G.elements):\n",
    "        M[g]=(C.inv())*D[g]*C\n",
    "    return M\n",
    "def ME(G,Ers,D):\n",
    "    \"\"\"Forma las matrices a las cuales el libro de Dixon llama \"E\" \"\"\"\n",
    "    \"\"\"La matriz E conmuta con todo elemento de la representación\"\"\"\n",
    "    a=D[G[0]].shape[0]\n",
    "    E=zeros(a,a)\n",
    "    R=unit(G,D)\n",
    "    for g in R:\n",
    "        E=E+(Dagger(R[g])*Ers*R[g])\n",
    "    E=expand(E)\n",
    "    E=(sympify(1)/a)*E\n",
    "    return E\n",
    "def irreducible(G,D):\n",
    "    \"\"\"Determina si una representación es irreducible\"\"\"\n",
    "    \"\"\"En caso de no serlo, regresa la matriz no escalar que conmuta\"\"\"\n",
    "    \"\"\"con todos los elementos de la representación\"\"\"\n",
    "    n=D[G[0]].shape[0]\n",
    "    N=eye(n)\n",
    "    L=zeros(n,n)\n",
    "    v=True\n",
    "    for r in range(0,n):\n",
    "        for s in range(0,n):\n",
    "            H=zeros(n)        \n",
    "            if (r==s):\n",
    "                H[r,r]=1\n",
    "            else:\n",
    "                if (r>s):\n",
    "                    H[r,s]=1\n",
    "                    H[s,r]=1\n",
    "                else:\n",
    "                    H[r,s]=1*I\n",
    "                    H[s,r]=-1*I\n",
    "            M=ME(G,H,D)\n",
    "            if (M!=M[0,0]*N):\n",
    "                v=False\n",
    "                L=M\n",
    "    if (v==True):\n",
    "        return v\n",
    "    else:\n",
    "        return L\n",
    "     \n",
    "##########################################\n",
    "def block(M):\n",
    "    v=[]\n",
    "    c1=0\n",
    "    i=0\n",
    "    n=M.shape[0]\n",
    "    while (c1<n):\n",
    "        c=0\n",
    "        for j in range(c1,n):\n",
    "            if (M[i,j]!=0 or M[j,i]!=0):\n",
    "                if (Abs(i-j)>c):\n",
    "                    c=Abs(i-j)\n",
    "        if (c==0):\n",
    "            v.append(c1)\n",
    "            c1=c1+1\n",
    "            i=c1\n",
    "        else:\n",
    "            bloques=False\n",
    "            while (bloques==False):\n",
    "                bloques=True\n",
    "                for j in range(c1,c1+c+1):\n",
    "                    for k in range(c1+c+1,n):\n",
    "                         if (M[j,k]!=0 or M[k,j]!=0):\n",
    "                            if (Abs(i-k)>c):\n",
    "                                c=Abs(i-k)\n",
    "            v.append(c1+c)\n",
    "            c1=c1+c+1\n",
    "            i=c1\n",
    "    return v\n",
    "def blockI(M,n,i):\n",
    "    a=M.shape[0]\n",
    "    N=eye(n)\n",
    "    for j in range(0,a):\n",
    "        for k in range(0,a):\n",
    "            N[j+i,k+i]=M[j,k]\n",
    "    return N\n",
    "def reducir(D,G):\n",
    "    M=irreducible(G,D)\n",
    "    b=D[G[0]].shape[0]\n",
    "    if (M==True):\n",
    "        return(eye(b))\n",
    "    else:\n",
    "        (P, J) = M.jordan_form()\n",
    "        w=[]\n",
    "        for g in D:\n",
    "            w.append(block(P.inv()*D[g]*P))\n",
    "        l=len(w[0])\n",
    "        au=w[0]\n",
    "        for g in w:\n",
    "            if (len(g)<l):\n",
    "                l=len(g)\n",
    "                au=g\n",
    "        e=0\n",
    "        U=P\n",
    "        for a in g:\n",
    "            D1={}\n",
    "            for g in list(G.elements):\n",
    "                D1[g]=(P.inv()*D[g]*P)[e:a+1,e:a+1]\n",
    "            U=U*blockI(reducir(D1,G),b,e)\n",
    "            e=a+1\n",
    "        return U\n",
    "        #v=block(P.inv()*D[G[0]]*P)\n",
    "        #I=[]\n",
    "        #s=0\n",
    "        #for g in v:\n",
    "        #    I.append(s)\n",
    "        #    s=s+g.shape[0]\n",
    "        #U=blockI(P,n,i)\n",
    "        #for a in range(0,len(v)):\n",
    "        #    D1={}\n",
    "        #    for g in list(G.elements):\n",
    "        #        if (g!=G.identity()):\n",
    "        #            D1[g]=block(P.inv()*D[g]*P)[a]\n",
    "        #        else:\n",
    "        #            D1[g]=eye(v[a].shape[0])\n",
    "        #    U=(U*blockI(reducir(D1,n,i+a,G))).simplify()\n",
    "        #return U\n",
    "\n"
   ]
  },
  {
   "cell_type": "code",
   "execution_count": 2,
   "metadata": {},
   "outputs": [
    {
     "data": {
      "image/png": "[encoded data removed]",
      "text/latex": [
       "$$\\left[\\begin{matrix}1 & 0 & 0 & 0 & 0 & 0\\\\0 & 1 & 0 & 0 & 0 & 0\\\\0 & 0 & 1 & 0 & 0 & 0\\\\0 & 0 & 0 & 1 & 0 & 0\\\\0 & 0 & 0 & 0 & 1 & 0\\\\0 & 0 & 0 & 0 & 0 & 1\\end{matrix}\\right]$$"
      ],
      "text/plain": [
       "⎡1  0  0  0  0  0⎤\n",
       "⎢                ⎥\n",
       "⎢0  1  0  0  0  0⎥\n",
       "⎢                ⎥\n",
       "⎢0  0  1  0  0  0⎥\n",
       "⎢                ⎥\n",
       "⎢0  0  0  1  0  0⎥\n",
       "⎢                ⎥\n",
       "⎢0  0  0  0  1  0⎥\n",
       "⎢                ⎥\n",
       "⎣0  0  0  0  0  1⎦"
      ]
     },
     "metadata": {},
     "output_type": "display_data"
    },
    {
     "data": {
      "image/png": "[encoded data removed]",
      "text/latex": [
       "$$\\left[\\begin{matrix}1 & 1 & 0 & 0 & 0 & 0\\\\0 & -1 & 0 & 0 & 0 & 0\\\\0 & 0 & -1 & 0 & 0 & 0\\\\0 & 0 & 0 & -1 & -1 & 0\\\\0 & 0 & 0 & 0 & 1 & 0\\\\0 & 0 & 0 & 0 & 0 & 1\\end{matrix}\\right]$$"
      ],
      "text/plain": [
       "⎡1  1   0   0   0   0⎤\n",
       "⎢                    ⎥\n",
       "⎢0  -1  0   0   0   0⎥\n",
       "⎢                    ⎥\n",
       "⎢0  0   -1  0   0   0⎥\n",
       "⎢                    ⎥\n",
       "⎢0  0   0   -1  -1  0⎥\n",
       "⎢                    ⎥\n",
       "⎢0  0   0   0   1   0⎥\n",
       "⎢                    ⎥\n",
       "⎣0  0   0   0   0   1⎦"
      ]
     },
     "metadata": {},
     "output_type": "display_data"
    },
    {
     "data": {
      "image/png": "[encoded data removed]",
      "text/latex": [
       "$$\\left[\\begin{matrix}0 & -1 & 0 & 0 & 0 & 0\\\\-1 & 0 & 0 & 0 & 0 & 0\\\\0 & 0 & -1 & 0 & 0 & 0\\\\0 & 0 & 0 & 0 & 1 & 0\\\\0 & 0 & 0 & 1 & 0 & 0\\\\0 & 0 & 0 & 0 & 0 & 1\\end{matrix}\\right]$$"
      ],
      "text/plain": [
       "⎡0   -1  0   0  0  0⎤\n",
       "⎢                   ⎥\n",
       "⎢-1  0   0   0  0  0⎥\n",
       "⎢                   ⎥\n",
       "⎢0   0   -1  0  0  0⎥\n",
       "⎢                   ⎥\n",
       "⎢0   0   0   0  1  0⎥\n",
       "⎢                   ⎥\n",
       "⎢0   0   0   1  0  0⎥\n",
       "⎢                   ⎥\n",
       "⎣0   0   0   0  0  1⎦"
      ]
     },
     "metadata": {},
     "output_type": "display_data"
    },
    {
     "data": {
      "image/png": "[encoded data removed]",
      "text/latex": [
       "$$\\left[\\begin{matrix}0 & 1 & 0 & 0 & 0 & 0\\\\-1 & -1 & 0 & 0 & 0 & 0\\\\0 & 0 & 1 & 0 & 0 & 0\\\\0 & 0 & 0 & 0 & 1 & 0\\\\0 & 0 & 0 & -1 & -1 & 0\\\\0 & 0 & 0 & 0 & 0 & 1\\end{matrix}\\right]$$"
      ],
      "text/plain": [
       "⎡0   1   0  0   0   0⎤\n",
       "⎢                    ⎥\n",
       "⎢-1  -1  0  0   0   0⎥\n",
       "⎢                    ⎥\n",
       "⎢0   0   1  0   0   0⎥\n",
       "⎢                    ⎥\n",
       "⎢0   0   0  0   1   0⎥\n",
       "⎢                    ⎥\n",
       "⎢0   0   0  -1  -1  0⎥\n",
       "⎢                    ⎥\n",
       "⎣0   0   0  0   0   1⎦"
      ]
     },
     "metadata": {},
     "output_type": "display_data"
    },
    {
     "data": {
      "image/png": "[encoded data removed]",
      "text/latex": [
       "$$\\left[\\begin{matrix}-1 & 0 & 0 & 0 & 0 & 0\\\\1 & 1 & 0 & 0 & 0 & 0\\\\0 & 0 & -1 & 0 & 0 & 0\\\\0 & 0 & 0 & 1 & 0 & 0\\\\0 & 0 & 0 & -1 & -1 & 0\\\\0 & 0 & 0 & 0 & 0 & 1\\end{matrix}\\right]$$"
      ],
      "text/plain": [
       "⎡-1  0  0   0   0   0⎤\n",
       "⎢                    ⎥\n",
       "⎢1   1  0   0   0   0⎥\n",
       "⎢                    ⎥\n",
       "⎢0   0  -1  0   0   0⎥\n",
       "⎢                    ⎥\n",
       "⎢0   0  0   1   0   0⎥\n",
       "⎢                    ⎥\n",
       "⎢0   0  0   -1  -1  0⎥\n",
       "⎢                    ⎥\n",
       "⎣0   0  0   0   0   1⎦"
      ]
     },
     "metadata": {},
     "output_type": "display_data"
    },
    {
     "data": {
      "image/png": "[encoded data removed]",
      "text/latex": [
       "$$\\left[\\begin{matrix}-1 & -1 & 0 & 0 & 0 & 0\\\\1 & 0 & 0 & 0 & 0 & 0\\\\0 & 0 & 1 & 0 & 0 & 0\\\\0 & 0 & 0 & -1 & -1 & 0\\\\0 & 0 & 0 & 1 & 0 & 0\\\\0 & 0 & 0 & 0 & 0 & 1\\end{matrix}\\right]$$"
      ],
      "text/plain": [
       "⎡-1  -1  0  0   0   0⎤\n",
       "⎢                    ⎥\n",
       "⎢1   0   0  0   0   0⎥\n",
       "⎢                    ⎥\n",
       "⎢0   0   1  0   0   0⎥\n",
       "⎢                    ⎥\n",
       "⎢0   0   0  -1  -1  0⎥\n",
       "⎢                    ⎥\n",
       "⎢0   0   0  1   0   0⎥\n",
       "⎢                    ⎥\n",
       "⎣0   0   0  0   0   1⎦"
      ]
     },
     "metadata": {},
     "output_type": "display_data"
    }
   ],
   "source": [
    "########################################\n",
    "G=SymmetricGroup(3)\n",
    "D=regular_representation(G)\n",
    "H=DihedralGroup(4)\n",
    "K=rho(H)\n",
    "#n=D[G[0]].shape[0]\n",
    "#i=0\n",
    "M=reducir(D,G)\n",
    "for g in list(G.elements):\n",
    "    display(M.inv()*D[g]*M)"
   ]
  },
  {
   "cell_type": "code",
   "execution_count": 15,
   "metadata": {},
   "outputs": [
    {
     "data": {
      "image/png": "[encoded data removed]",
      "text/latex": [
       "$$24 + 10 i$$"
      ],
      "text/plain": [
       "24 + 10⋅ⅈ"
      ]
     },
     "execution_count": 15,
     "metadata": {},
     "output_type": "execute_result"
    }
   ],
   "source": [
    "a=5+I\n",
    "b=5+I\n",
    "expand(a*b)"
   ]
  },
  {
   "cell_type": "code",
   "execution_count": 1,
   "metadata": {},
   "outputs": [],
   "source": [
    "from sympy import as sp\n",
    "import random\n",
    "from sympy.combinatorics.named_groups import SymmetricGroup\n",
    "init_printing()\n",
    "from sympy.physics.quantum.dagger import Dagger\n",
    "from sympy.combinatorics.named_groups import DihedralGroup\n",
    "from sympy.matrices import Matrix\n",
    "from sympy.matrices import GramSchmidt\n",
    "from sympy import BlockMatrix\n",
    "from sympy import Symbol, I\n",
    "def ublock(M,N):\n",
    "class MatrixRepresentation:\n",
    "    \"\"\"\n",
    "    A class of matricial representation of a group.\n",
    "    \"\"\"\n",
    "    def __init__(self, d, G, n):\n",
    "        self.map = d\n",
    "        self.group = G\n",
    "        self.degree = n\n",
    "    \n",
    "    def character(self):\n",
    "        \"\"\"\n",
    "        A dictionary that saved the trace of for every element in d.\n",
    "        \"\"\"\n",
    "        return dict([(g, self.map[g].trace()) for g in self.group.elements])\n",
    "\n",
    "    def is_unitary(self):\n",
    "        \"\"\"\n",
    "        Return True if every element in d is unitary, False in otherwise.\n",
    "        \"\"\"\n",
    "        for g in self.group.elements:\n",
    "            if sp.expand(self.map[g].H*self.map[g]) != sp.eye(self.degree):\n",
    "                return False\n",
    "        else:\n",
    "            return True\n",
    "def rho(G):\n",
    "    D={}\n",
    "    for g in list(G.elements):\n",
    "        n=max(g)+1\n",
    "        M=eye(n)\n",
    "        N=eye(n)\n",
    "        for i in range(0,n):\n",
    "            for j in range(0,n):\n",
    "                N[i,j]=M[g(i),j]\n",
    "        D[g]=N\n",
    "    return MatrixRepresentation(D,G,n)\n",
    "\n",
    "\n",
    "def _char_f(G, g, i, j):\n",
    "    elems = list(G.elements)\n",
    "    if g*elems[i] == elems[j]:\n",
    "        return 1\n",
    "    else:\n",
    "        return 0\n",
    "\n",
    "\n",
    "def regular_representation(G):\n",
    "    elems = list(G.elements)\n",
    "    n = len(elems)\n",
    "    mydict = {}\n",
    "    for g in elems:\n",
    "        mydict[g] = sp.ImmutableMatrix(sp.Matrix(n, n,\n",
    "                                                 lambda i, j:\n",
    "                                                 _char_f(G, g, i, j)))\n",
    "    return MatrixRepresentation(mydict, G, n)\n"
   ]
  },
  {
   "cell_type": "code",
   "execution_count": 5,
   "metadata": {},
   "outputs": [
    {
     "data": {
      "image/png": "[encoded data removed]",
      "text/latex": [
       "$$2$$"
      ],
      "text/plain": [
       "2"
      ]
     },
     "execution_count": 5,
     "metadata": {},
     "output_type": "execute_result"
    }
   ],
   "source": [
    "from sympy import *\n",
    "import random\n",
    "from sympy.combinatorics.named_groups import SymmetricGroup\n",
    "init_printing()\n",
    "from sympy.physics.quantum.dagger import Dagger\n",
    "from sympy.combinatorics.named_groups import DihedralGroup\n",
    "from sympy.matrices import Matrix\n",
    "from sympy.matrices import GramSchmidt\n",
    "from sympy import BlockMatrix\n",
    "from sympy import Symbol, I\n",
    "G=SymmetricGroup(3)\n",
    "def _char_f(G, g, i, j):\n",
    "    elems = list(G.elements)\n",
    "    if elems[i] == elems[j]:\n",
    "        return 1\n",
    "    else:\n",
    "        return 0"
   ]
  },
  {
   "cell_type": "code",
   "execution_count": 24,
   "metadata": {},
   "outputs": [],
   "source": [
    "G=SymmetricGroup(3)\n",
    "def char1(G, g, i, j):\n",
    "    for h in g:\n",
    "    if g*elems[i] == elems[j]:\n",
    "        return 1\n",
    "    else:\n",
    "        return 0"
   ]
  },
  {
   "cell_type": "code",
   "execution_count": 1,
   "metadata": {},
   "outputs": [],
   "source": [
    "from sympy import *\n",
    "import random\n",
    "from sympy.combinatorics.named_groups import SymmetricGroup\n",
    "init_printing()\n",
    "from sympy.physics.quantum.dagger import Dagger\n",
    "from sympy.combinatorics.named_groups import DihedralGroup\n",
    "from sympy.matrices import Matrix\n",
    "from sympy.matrices import GramSchmidt\n",
    "from sympy import BlockMatrix\n",
    "from sympy import Symbol, I\n",
    "from sympy import radsimp\n",
    "from sympy.simplify.radsimp import collect_sqrt\n",
    "\n",
    "def es_representacion(D,G):\n",
    "    for g in list(G.elements):\n",
    "        for h in list(G.elements):\n",
    "            if (D[g*h]!=D[g]*D[h]):\n",
    "                return False\n",
    "            if (g*h == G.identity()):\n",
    "                if (D[h] != D[g].inv()):\n",
    "                    return False\n",
    "    if (D[G.identity()]!=eye(D[G[0]].shape[0])):\n",
    "        return False\n",
    "    else:\n",
    "        return True\n",
    "def ublock(M,N):\n",
    "    \"\"\"ublock hace una matriz diagonal por bloques con dos matrices dadas\"\"\"\n",
    "    m=M.shape[0]\n",
    "    n=N.shape[0]\n",
    "    l=m+n\n",
    "    L=zeros(l,l)\n",
    "    for i in range(l):\n",
    "        for j in range(l):\n",
    "            if (i<m and j<m):\n",
    "                L[i,j]=M[i,j]\n",
    "            if (i>=m and j>=m):\n",
    "                L[i,j]=N[i-m,j-m]\n",
    "    return L\n",
    "def MTS(A):\n",
    "    \"\"\"Calcula una matriz triangular superior\"\"\"\n",
    "    A1=A\n",
    "    n=A.shape[0]\n",
    "    V=eye(n)\n",
    "    for i in range(0,n):\n",
    "        C=eye(n)\n",
    "        C[i,i]=1/sqrt(A1[i,i])\n",
    "        for j in range(i+1,n):\n",
    "            C[i,j] = -(1/A1[i,i])*A1[i,j]\n",
    "        V=V*C\n",
    "        V=expand(V)\n",
    "        A1=Dagger(C)*A1*C\n",
    "        A1=expand(A1)\n",
    "    return V\n",
    "def regular_representation(G):\n",
    "    elems = list(G.elements)\n",
    "    n = len(elems)\n",
    "    def char_function(i, j):\n",
    "        if elems[i]*g == elems[j]:\n",
    "            return 1\n",
    "        else:\n",
    "            return 0\n",
    "    mydict = {}\n",
    "    for g in elems:\n",
    "        mydict[g] = Matrix(n, n, char_function)\n",
    "    return mydict\n",
    "def rho(G):\n",
    "    D={}\n",
    "    for g in list(G.elements):\n",
    "        n=max(g)+1\n",
    "        M=eye(n)\n",
    "        N=eye(n)\n",
    "        for i in range(0,n):\n",
    "            for j in range(0,n):\n",
    "                N[i,j]=M[g(i),j]\n",
    "        D[g]=N\n",
    "    return D\n",
    "def unit(G,D):\n",
    "    \"\"\"Hace unitaria la representación\"\"\"\n",
    "    n=D[G[0]].shape[0]\n",
    "    A=zeros(n,n)\n",
    "    for g in D:\n",
    "        J=Dagger(D[g])*D[g]\n",
    "        J=expand(J)\n",
    "        A=J+A\n",
    "    C=MTS(A)\n",
    "    M = {}\n",
    "    for g in list(G.elements):\n",
    "        M[g]=(C.inv())*D[g]*C\n",
    "    return M\n",
    "def ME(G,Ers,D):\n",
    "    \"\"\"Forma las matrices a las cuales el libro de Dixon llama \"E\" \"\"\"\n",
    "    \"\"\"La matriz E conmuta con todo elemento de la representación\"\"\"\n",
    "    a=D[G[0]].shape[0]\n",
    "    E=zeros(a,a)\n",
    "    R=unit(G,D)\n",
    "    for g in R:\n",
    "        E=E+(Dagger(R[g])*Ers*R[g])\n",
    "    E=(sympify(1)/a)*E\n",
    "    E=expand(E)\n",
    "    return E\n",
    "def irreducible(G,D):\n",
    "    \"\"\"Determina si una representación es irreducible\"\"\"\n",
    "    \"\"\"En caso de no serlo, regresa la matriz no escalar que conmuta\"\"\"\n",
    "    \"\"\"con todos los elementos de la representación\"\"\"\n",
    "    n=D[G[0]].shape[0]\n",
    "    N=eye(n)\n",
    "    for r in range(0,n):\n",
    "        for s in range(0,n):\n",
    "            H=zeros(n)        \n",
    "            if (n-1-r==n-1-s):\n",
    "                H[n-1-r,n-1-r]=1\n",
    "            else:\n",
    "                if (n-1-r>n-1-s):\n",
    "                    H[n-1-r,n-1-s]=1\n",
    "                    H[n-1-s,n-1-r]=1\n",
    "                else:\n",
    "                    H[n-1-r,n-1-s]=1*I\n",
    "                    H[n-1-s,n-1-r]=-1*I\n",
    "            M=ME(G,H,D)\n",
    "            if (M!=M[0,0]*N):\n",
    "                return M\n",
    "    else:\n",
    "        return True\n",
    "##########################################\n",
    "def block(M):\n",
    "    v=[]\n",
    "    c1=0\n",
    "    i=0\n",
    "    n=M.shape[0]\n",
    "    while (c1<n):\n",
    "        c=0\n",
    "        for j in range(c1,n):\n",
    "            if (M[i,j]!=0 or M[j,i]!=0):\n",
    "                if (Abs(i-j)>c):\n",
    "                    c=Abs(i-j)\n",
    "        if (c==0):\n",
    "            v.append(c1)\n",
    "            c1=c1+1\n",
    "            i=c1\n",
    "        else:\n",
    "            bloques=False\n",
    "            while (bloques==False):\n",
    "                bloques=True\n",
    "                for j in range(c1,c1+c+1):\n",
    "                    for k in range(c1+c+1,n):\n",
    "                         if (M[j,k]!=0 or M[k,j]!=0):\n",
    "                            if (Abs(i-k)>c):\n",
    "                                c=Abs(i-k)\n",
    "            v.append(c1+c)\n",
    "            c1=c1+c+1\n",
    "            i=c1\n",
    "    return v\n",
    "def blockI(M,n,i):\n",
    "    a=M.shape[0]\n",
    "    N=eye(n)\n",
    "    for j in range(0,a):\n",
    "        for k in range(0,a):\n",
    "            N[j+i,k+i]=M[j,k]\n",
    "    return N\n",
    "def reducir(D,G):\n",
    "    M=irreducible(G,D)\n",
    "    b=D[G[0]].shape[0]\n",
    "    if (M==True):\n",
    "        return(eye(b))\n",
    "    else:\n",
    "        (P, J) = M.jordan_form()\n",
    "        P=expand(P)\n",
    "        w=[]\n",
    "        for g in D:\n",
    "            w.append(block(P.inv()*D[g]*P))\n",
    "        l=len(w[0])\n",
    "        au=w[0]\n",
    "        for g in w:\n",
    "            if (len(g)<l):\n",
    "                l=len(g)\n",
    "                au=g\n",
    "        e=0\n",
    "        U=P\n",
    "        for a in au:\n",
    "            D1={}\n",
    "            for g in list(G.elements):\n",
    "                D1[g]=(P.inv()*D[g]*P)[e:a+1,e:a+1]\n",
    "            if (es_representacion(D1,G)==True):\n",
    "                U=U*blockI(reducir(D1,G),b,e)\n",
    "            else:\n",
    "                return \"El diccionario D1 no es representación\"\n",
    "            e=a+1\n",
    "        return U\n",
    "def delta(G):\n",
    "    D={}\n",
    "    L=list(G.elements)\n",
    "    n=len(L)\n",
    "    for g in L:\n",
    "        N=zeros(n)\n",
    "        M=eye(n)\n",
    "        for i in range(0,n):\n",
    "            for j in range(0,n):\n",
    "                if (L[j]*g==L[i]):\n",
    "                    for k in range(0,n):\n",
    "                        N[k,j]=M[k,i]\n",
    "        D[g]=N\n",
    "    return D\n",
    "\n",
    "        #v=block(P.inv()*D[G[0]]*P)\n",
    "        #I=[]\n",
    "        #s=0\n",
    "        #for g in v:\n",
    "        #    I.append(s)\n",
    "        #    s=s+g.shape[0]\n",
    "        #U=blockI(P,n,i)\n",
    "        #for a in range(0,len(v)):\n",
    "        #    D1={}\n",
    "        #    for g in list(G.elements):\n",
    "        #        if (g!=G.identity()):\n",
    "        #            D1[g]=block(P.inv()*D[g]*P)[a]\n",
    "        #        else:\n",
    "        #            D1[g]=eye(v[a].shape[0])\n",
    "        #    U=(U*blockI(reducir(D1,n,i+a,G))).simplify()\n",
    "        #return U\n"
   ]
  },
  {
   "cell_type": "code",
   "execution_count": 3,
   "metadata": {},
   "outputs": [
    {
     "data": {
      "image/png": "[encoded data removed]",
      "text/latex": [
       "$$\\left [ \\left( 2\\right), \\quad \\left( 0\\; 1\\; 2\\right), \\quad \\left( 0\\; 2\\right), \\quad \\left( 1\\; 2\\right), \\quad \\left( 0\\; 2\\; 1\\right), \\quad \\left( 0\\; 1\\right)\\left( 2\\right)\\right ]$$"
      ],
      "text/plain": [
       "[(2), (0 1 2), (0 2), (1 2), (0 2 1), (2)(0 1)]"
      ]
     },
     "metadata": {},
     "output_type": "display_data"
    },
    {
     "data": {
      "text/plain": [
       "True"
      ]
     },
     "metadata": {},
     "output_type": "display_data"
    },
    {
     "data": {
      "text/plain": [
       "True"
      ]
     },
     "metadata": {},
     "output_type": "display_data"
    },
    {
     "data": {
      "image/png": "[encoded data removed]",
      "text/latex": [
       "$$\\left \\{ \\left( 2\\right) : \\left[\\begin{matrix}1 & 0 & 0 & 0 & 0 & 0\\\\0 & 1 & 0 & 0 & 0 & 0\\\\0 & 0 & 1 & 0 & 0 & 0\\\\0 & 0 & 0 & 1 & 0 & 0\\\\0 & 0 & 0 & 0 & 1 & 0\\\\0 & 0 & 0 & 0 & 0 & 1\\end{matrix}\\right], \\quad \\left( 1\\; 2\\right) : \\left[\\begin{matrix}0 & 0 & 0 & 1 & 0 & 0\\\\0 & 0 & 1 & 0 & 0 & 0\\\\0 & 1 & 0 & 0 & 0 & 0\\\\1 & 0 & 0 & 0 & 0 & 0\\\\0 & 0 & 0 & 0 & 0 & 1\\\\0 & 0 & 0 & 0 & 1 & 0\\end{matrix}\\right], \\quad \\left( 0\\; 1\\right)\\left( 2\\right) : \\left[\\begin{matrix}0 & 0 & 0 & 0 & 0 & 1\\\\0 & 0 & 0 & 1 & 0 & 0\\\\0 & 0 & 0 & 0 & 1 & 0\\\\0 & 1 & 0 & 0 & 0 & 0\\\\0 & 0 & 1 & 0 & 0 & 0\\\\1 & 0 & 0 & 0 & 0 & 0\\end{matrix}\\right], \\quad \\left( 0\\; 1\\; 2\\right) : \\left[\\begin{matrix}0 & 1 & 0 & 0 & 0 & 0\\\\0 & 0 & 0 & 0 & 1 & 0\\\\0 & 0 & 0 & 1 & 0 & 0\\\\0 & 0 & 0 & 0 & 0 & 1\\\\1 & 0 & 0 & 0 & 0 & 0\\\\0 & 0 & 1 & 0 & 0 & 0\\end{matrix}\\right], \\quad \\left( 0\\; 2\\; 1\\right) : \\left[\\begin{matrix}0 & 0 & 0 & 0 & 1 & 0\\\\1 & 0 & 0 & 0 & 0 & 0\\\\0 & 0 & 0 & 0 & 0 & 1\\\\0 & 0 & 1 & 0 & 0 & 0\\\\0 & 1 & 0 & 0 & 0 & 0\\\\0 & 0 & 0 & 1 & 0 & 0\\end{matrix}\\right], \\quad \\left( 0\\; 2\\right) : \\left[\\begin{matrix}0 & 0 & 1 & 0 & 0 & 0\\\\0 & 0 & 0 & 0 & 0 & 1\\\\1 & 0 & 0 & 0 & 0 & 0\\\\0 & 0 & 0 & 0 & 1 & 0\\\\0 & 0 & 0 & 1 & 0 & 0\\\\0 & 1 & 0 & 0 & 0 & 0\\end{matrix}\\right]\\right \\}$$"
      ],
      "text/plain": [
       "⎧     ⎡1  0  0  0  0  0⎤         ⎡0  0  0  1  0  0⎤            ⎡0  0  0  0  0 \n",
       "⎪     ⎢                ⎥         ⎢                ⎥            ⎢              \n",
       "⎪     ⎢0  1  0  0  0  0⎥         ⎢0  0  1  0  0  0⎥            ⎢0  0  0  1  0 \n",
       "⎪     ⎢                ⎥         ⎢                ⎥            ⎢              \n",
       "⎪     ⎢0  0  1  0  0  0⎥         ⎢0  1  0  0  0  0⎥            ⎢0  0  0  0  1 \n",
       "⎨(2): ⎢                ⎥, (1 2): ⎢                ⎥, (2)(0 1): ⎢              \n",
       "⎪     ⎢0  0  0  1  0  0⎥         ⎢1  0  0  0  0  0⎥            ⎢0  1  0  0  0 \n",
       "⎪     ⎢                ⎥         ⎢                ⎥            ⎢              \n",
       "⎪     ⎢0  0  0  0  1  0⎥         ⎢0  0  0  0  0  1⎥            ⎢0  0  1  0  0 \n",
       "⎪     ⎢                ⎥         ⎢                ⎥            ⎢              \n",
       "⎩     ⎣0  0  0  0  0  1⎦         ⎣0  0  0  0  1  0⎦            ⎣1  0  0  0  0 \n",
       "\n",
       " 1⎤           ⎡0  1  0  0  0  0⎤           ⎡0  0  0  0  1  0⎤         ⎡0  0  1\n",
       "  ⎥           ⎢                ⎥           ⎢                ⎥         ⎢       \n",
       " 0⎥           ⎢0  0  0  0  1  0⎥           ⎢1  0  0  0  0  0⎥         ⎢0  0  0\n",
       "  ⎥           ⎢                ⎥           ⎢                ⎥         ⎢       \n",
       " 0⎥           ⎢0  0  0  1  0  0⎥           ⎢0  0  0  0  0  1⎥         ⎢1  0  0\n",
       "  ⎥, (0 1 2): ⎢                ⎥, (0 2 1): ⎢                ⎥, (0 2): ⎢       \n",
       " 0⎥           ⎢0  0  0  0  0  1⎥           ⎢0  0  1  0  0  0⎥         ⎢0  0  0\n",
       "  ⎥           ⎢                ⎥           ⎢                ⎥         ⎢       \n",
       " 0⎥           ⎢1  0  0  0  0  0⎥           ⎢0  1  0  0  0  0⎥         ⎢0  0  0\n",
       "  ⎥           ⎢                ⎥           ⎢                ⎥         ⎢       \n",
       " 0⎦           ⎣0  0  1  0  0  0⎦           ⎣0  0  0  1  0  0⎦         ⎣0  1  0\n",
       "\n",
       "  0  0  0⎤⎫\n",
       "         ⎥⎪\n",
       "  0  0  1⎥⎪\n",
       "         ⎥⎪\n",
       "  0  0  0⎥⎪\n",
       "         ⎥⎬\n",
       "  0  1  0⎥⎪\n",
       "         ⎥⎪\n",
       "  1  0  0⎥⎪\n",
       "         ⎥⎪\n",
       "  0  0  0⎦⎭"
      ]
     },
     "metadata": {},
     "output_type": "display_data"
    },
    {
     "data": {
      "image/png": "[encoded data removed]",
      "text/latex": [
       "$$\\left \\{ \\left( 2\\right) : \\left[\\begin{matrix}1 & 0 & 0 & 0 & 0 & 0\\\\0 & 1 & 0 & 0 & 0 & 0\\\\0 & 0 & 1 & 0 & 0 & 0\\\\0 & 0 & 0 & 1 & 0 & 0\\\\0 & 0 & 0 & 0 & 1 & 0\\\\0 & 0 & 0 & 0 & 0 & 1\\end{matrix}\\right], \\quad \\left( 1\\; 2\\right) : \\left[\\begin{matrix}0 & 0 & 0 & 1 & 0 & 0\\\\0 & 0 & 1 & 0 & 0 & 0\\\\0 & 1 & 0 & 0 & 0 & 0\\\\1 & 0 & 0 & 0 & 0 & 0\\\\0 & 0 & 0 & 0 & 0 & 1\\\\0 & 0 & 0 & 0 & 1 & 0\\end{matrix}\\right], \\quad \\left( 0\\; 1\\right)\\left( 2\\right) : \\left[\\begin{matrix}0 & 0 & 0 & 0 & 0 & 1\\\\0 & 0 & 0 & 1 & 0 & 0\\\\0 & 0 & 0 & 0 & 1 & 0\\\\0 & 1 & 0 & 0 & 0 & 0\\\\0 & 0 & 1 & 0 & 0 & 0\\\\1 & 0 & 0 & 0 & 0 & 0\\end{matrix}\\right], \\quad \\left( 0\\; 1\\; 2\\right) : \\left[\\begin{matrix}0 & 1 & 0 & 0 & 0 & 0\\\\0 & 0 & 0 & 0 & 1 & 0\\\\0 & 0 & 0 & 1 & 0 & 0\\\\0 & 0 & 0 & 0 & 0 & 1\\\\1 & 0 & 0 & 0 & 0 & 0\\\\0 & 0 & 1 & 0 & 0 & 0\\end{matrix}\\right], \\quad \\left( 0\\; 2\\; 1\\right) : \\left[\\begin{matrix}0 & 0 & 0 & 0 & 1 & 0\\\\1 & 0 & 0 & 0 & 0 & 0\\\\0 & 0 & 0 & 0 & 0 & 1\\\\0 & 0 & 1 & 0 & 0 & 0\\\\0 & 1 & 0 & 0 & 0 & 0\\\\0 & 0 & 0 & 1 & 0 & 0\\end{matrix}\\right], \\quad \\left( 0\\; 2\\right) : \\left[\\begin{matrix}0 & 0 & 1 & 0 & 0 & 0\\\\0 & 0 & 0 & 0 & 0 & 1\\\\1 & 0 & 0 & 0 & 0 & 0\\\\0 & 0 & 0 & 0 & 1 & 0\\\\0 & 0 & 0 & 1 & 0 & 0\\\\0 & 1 & 0 & 0 & 0 & 0\\end{matrix}\\right]\\right \\}$$"
      ],
      "text/plain": [
       "⎧     ⎡1  0  0  0  0  0⎤         ⎡0  0  0  1  0  0⎤            ⎡0  0  0  0  0 \n",
       "⎪     ⎢                ⎥         ⎢                ⎥            ⎢              \n",
       "⎪     ⎢0  1  0  0  0  0⎥         ⎢0  0  1  0  0  0⎥            ⎢0  0  0  1  0 \n",
       "⎪     ⎢                ⎥         ⎢                ⎥            ⎢              \n",
       "⎪     ⎢0  0  1  0  0  0⎥         ⎢0  1  0  0  0  0⎥            ⎢0  0  0  0  1 \n",
       "⎨(2): ⎢                ⎥, (1 2): ⎢                ⎥, (2)(0 1): ⎢              \n",
       "⎪     ⎢0  0  0  1  0  0⎥         ⎢1  0  0  0  0  0⎥            ⎢0  1  0  0  0 \n",
       "⎪     ⎢                ⎥         ⎢                ⎥            ⎢              \n",
       "⎪     ⎢0  0  0  0  1  0⎥         ⎢0  0  0  0  0  1⎥            ⎢0  0  1  0  0 \n",
       "⎪     ⎢                ⎥         ⎢                ⎥            ⎢              \n",
       "⎩     ⎣0  0  0  0  0  1⎦         ⎣0  0  0  0  1  0⎦            ⎣1  0  0  0  0 \n",
       "\n",
       " 1⎤           ⎡0  1  0  0  0  0⎤           ⎡0  0  0  0  1  0⎤         ⎡0  0  1\n",
       "  ⎥           ⎢                ⎥           ⎢                ⎥         ⎢       \n",
       " 0⎥           ⎢0  0  0  0  1  0⎥           ⎢1  0  0  0  0  0⎥         ⎢0  0  0\n",
       "  ⎥           ⎢                ⎥           ⎢                ⎥         ⎢       \n",
       " 0⎥           ⎢0  0  0  1  0  0⎥           ⎢0  0  0  0  0  1⎥         ⎢1  0  0\n",
       "  ⎥, (0 1 2): ⎢                ⎥, (0 2 1): ⎢                ⎥, (0 2): ⎢       \n",
       " 0⎥           ⎢0  0  0  0  0  1⎥           ⎢0  0  1  0  0  0⎥         ⎢0  0  0\n",
       "  ⎥           ⎢                ⎥           ⎢                ⎥         ⎢       \n",
       " 0⎥           ⎢1  0  0  0  0  0⎥           ⎢0  1  0  0  0  0⎥         ⎢0  0  0\n",
       "  ⎥           ⎢                ⎥           ⎢                ⎥         ⎢       \n",
       " 0⎦           ⎣0  0  1  0  0  0⎦           ⎣0  0  0  1  0  0⎦         ⎣0  1  0\n",
       "\n",
       "  0  0  0⎤⎫\n",
       "         ⎥⎪\n",
       "  0  0  1⎥⎪\n",
       "         ⎥⎪\n",
       "  0  0  0⎥⎪\n",
       "         ⎥⎬\n",
       "  0  1  0⎥⎪\n",
       "         ⎥⎪\n",
       "  1  0  0⎥⎪\n",
       "         ⎥⎪\n",
       "  0  0  0⎦⎭"
      ]
     },
     "metadata": {},
     "output_type": "display_data"
    },
    {
     "data": {
      "image/png": "[encoded data removed]",
      "text/latex": [
       "$$\\left[\\begin{matrix}1 & 0 & 0 & 0 & 0 & 0\\\\0 & 1 & 0 & 0 & 0 & 0\\\\0 & 0 & 1 & 0 & 0 & 0\\\\0 & 0 & 0 & 1 & 0 & 0\\\\0 & 0 & 0 & 0 & 1 & 0\\\\0 & 0 & 0 & 0 & 0 & 1\\end{matrix}\\right]$$"
      ],
      "text/plain": [
       "⎡1  0  0  0  0  0⎤\n",
       "⎢                ⎥\n",
       "⎢0  1  0  0  0  0⎥\n",
       "⎢                ⎥\n",
       "⎢0  0  1  0  0  0⎥\n",
       "⎢                ⎥\n",
       "⎢0  0  0  1  0  0⎥\n",
       "⎢                ⎥\n",
       "⎢0  0  0  0  1  0⎥\n",
       "⎢                ⎥\n",
       "⎣0  0  0  0  0  1⎦"
      ]
     },
     "metadata": {},
     "output_type": "display_data"
    },
    {
     "data": {
      "image/png": "[encoded data removed]",
      "text/latex": [
       "$$\\left[\\begin{matrix}0 & 1 & 0 & 0 & 0 & 0\\\\-1 & -1 & 0 & 0 & 0 & 0\\\\0 & 0 & 1 & 0 & 0 & 0\\\\0 & 0 & 0 & 0 & 1 & 0\\\\0 & 0 & 0 & -1 & -1 & 0\\\\0 & 0 & 0 & 0 & 0 & 1\\end{matrix}\\right]$$"
      ],
      "text/plain": [
       "⎡0   1   0  0   0   0⎤\n",
       "⎢                    ⎥\n",
       "⎢-1  -1  0  0   0   0⎥\n",
       "⎢                    ⎥\n",
       "⎢0   0   1  0   0   0⎥\n",
       "⎢                    ⎥\n",
       "⎢0   0   0  0   1   0⎥\n",
       "⎢                    ⎥\n",
       "⎢0   0   0  -1  -1  0⎥\n",
       "⎢                    ⎥\n",
       "⎣0   0   0  0   0   1⎦"
      ]
     },
     "metadata": {},
     "output_type": "display_data"
    },
    {
     "data": {
      "image/png": "[encoded data removed]",
      "text/latex": [
       "$$\\left[\\begin{matrix}0 & -1 & 0 & 0 & 0 & 0\\\\-1 & 0 & 0 & 0 & 0 & 0\\\\0 & 0 & -1 & 0 & 0 & 0\\\\0 & 0 & 0 & 0 & 1 & 0\\\\0 & 0 & 0 & 1 & 0 & 0\\\\0 & 0 & 0 & 0 & 0 & 1\\end{matrix}\\right]$$"
      ],
      "text/plain": [
       "⎡0   -1  0   0  0  0⎤\n",
       "⎢                   ⎥\n",
       "⎢-1  0   0   0  0  0⎥\n",
       "⎢                   ⎥\n",
       "⎢0   0   -1  0  0  0⎥\n",
       "⎢                   ⎥\n",
       "⎢0   0   0   0  1  0⎥\n",
       "⎢                   ⎥\n",
       "⎢0   0   0   1  0  0⎥\n",
       "⎢                   ⎥\n",
       "⎣0   0   0   0  0  1⎦"
      ]
     },
     "metadata": {},
     "output_type": "display_data"
    },
    {
     "data": {
      "image/png": "[encoded data removed]",
      "text/latex": [
       "$$\\left[\\begin{matrix}1 & 1 & 0 & 0 & 0 & 0\\\\0 & -1 & 0 & 0 & 0 & 0\\\\0 & 0 & -1 & 0 & 0 & 0\\\\0 & 0 & 0 & -1 & -1 & 0\\\\0 & 0 & 0 & 0 & 1 & 0\\\\0 & 0 & 0 & 0 & 0 & 1\\end{matrix}\\right]$$"
      ],
      "text/plain": [
       "⎡1  1   0   0   0   0⎤\n",
       "⎢                    ⎥\n",
       "⎢0  -1  0   0   0   0⎥\n",
       "⎢                    ⎥\n",
       "⎢0  0   -1  0   0   0⎥\n",
       "⎢                    ⎥\n",
       "⎢0  0   0   -1  -1  0⎥\n",
       "⎢                    ⎥\n",
       "⎢0  0   0   0   1   0⎥\n",
       "⎢                    ⎥\n",
       "⎣0  0   0   0   0   1⎦"
      ]
     },
     "metadata": {},
     "output_type": "display_data"
    },
    {
     "data": {
      "image/png": "[encoded data removed]",
      "text/latex": [
       "$$\\left[\\begin{matrix}-1 & -1 & 0 & 0 & 0 & 0\\\\1 & 0 & 0 & 0 & 0 & 0\\\\0 & 0 & 1 & 0 & 0 & 0\\\\0 & 0 & 0 & -1 & -1 & 0\\\\0 & 0 & 0 & 1 & 0 & 0\\\\0 & 0 & 0 & 0 & 0 & 1\\end{matrix}\\right]$$"
      ],
      "text/plain": [
       "⎡-1  -1  0  0   0   0⎤\n",
       "⎢                    ⎥\n",
       "⎢1   0   0  0   0   0⎥\n",
       "⎢                    ⎥\n",
       "⎢0   0   1  0   0   0⎥\n",
       "⎢                    ⎥\n",
       "⎢0   0   0  -1  -1  0⎥\n",
       "⎢                    ⎥\n",
       "⎢0   0   0  1   0   0⎥\n",
       "⎢                    ⎥\n",
       "⎣0   0   0  0   0   1⎦"
      ]
     },
     "metadata": {},
     "output_type": "display_data"
    },
    {
     "data": {
      "image/png": "[encoded data removed]",
      "text/latex": [
       "$$\\left[\\begin{matrix}-1 & 0 & 0 & 0 & 0 & 0\\\\1 & 1 & 0 & 0 & 0 & 0\\\\0 & 0 & -1 & 0 & 0 & 0\\\\0 & 0 & 0 & 1 & 0 & 0\\\\0 & 0 & 0 & -1 & -1 & 0\\\\0 & 0 & 0 & 0 & 0 & 1\\end{matrix}\\right]$$"
      ],
      "text/plain": [
       "⎡-1  0  0   0   0   0⎤\n",
       "⎢                    ⎥\n",
       "⎢1   1  0   0   0   0⎥\n",
       "⎢                    ⎥\n",
       "⎢0   0  -1  0   0   0⎥\n",
       "⎢                    ⎥\n",
       "⎢0   0  0   1   0   0⎥\n",
       "⎢                    ⎥\n",
       "⎢0   0  0   -1  -1  0⎥\n",
       "⎢                    ⎥\n",
       "⎣0   0  0   0   0   1⎦"
      ]
     },
     "metadata": {},
     "output_type": "display_data"
    }
   ],
   "source": [
    "G=SymmetricGroup(3)\n",
    "D=regular_representation(G)\n",
    "D1=unit(G,D)\n",
    "L=list(G.elements)\n",
    "display(L)\n",
    "display(es_representacion(D,G))\n",
    "display(es_representacion(D,G))\n",
    "#D1=unit(G,D)\n",
    "display(D)\n",
    "display(D1)\n",
    "P=reducir(D,G)\n",
    "for g in D:\n",
    "    display(P.inv()*D[g]*P)"
   ]
  },
  {
   "cell_type": "code",
   "execution_count": null,
   "metadata": {},
   "outputs": [],
   "source": []
  }
 ],
 "metadata": {
  "kernelspec": {
   "display_name": "Python 3",
   "language": "python",
   "name": "python3"
  },
  "language_info": {
   "codemirror_mode": {
    "name": "ipython",
    "version": 3
   },
   "file_extension": ".py",
   "mimetype": "text/x-python",
   "name": "python",
   "nbconvert_exporter": "python",
   "pygments_lexer": "ipython3",
   "version": "3.7.0"
  }
 },
 "nbformat": 4,
 "nbformat_minor": 1
}
