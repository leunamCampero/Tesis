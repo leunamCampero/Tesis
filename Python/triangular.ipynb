{
 "cells": [
  {
   "cell_type": "code",
   "execution_count": 1,
   "metadata": {
    "collapsed": false
   },
   "outputs": [
   ],
   "source": [
    "from sympy import *\n",
    "import random\n",
    "init_printing()\n",
    "from sympy.physics.quantum.dagger import Dagger"
   ]
  },
  {
   "cell_type": "code",
   "execution_count": 2,
   "metadata": {
    "collapsed": false
   },
   "outputs": [
   ],
   "source": [
    "def randMatrixC(r,c,min=0,max=1,seed=[]):\n",
    "    \"\"\"Create random matrix r x c with complex entries\"\"\"\n",
    "    if seed == []:\n",
    "        prng = random.Random()  # use system time\n",
    "    else:\n",
    "        prng = random.Random(seed)\n",
    "    return Matrix(r,c,lambda i,j: prng.randint(min,max)+I*prng.randint(min,max))"
   ]
  },
  {
   "cell_type": "code",
   "execution_count": 3,
   "metadata": {
    "collapsed": false
   },
   "outputs": [
   ],
   "source": [
    "def MTS(A):\n",
    "    \"\"\"Calcula una matriz triangular superior\"\"\"\n",
    "    A1=A\n",
    "    n=A.shape[0]\n",
    "    V=eye(n)\n",
    "    for i in range(0,n):\n",
    "        C=eye(n)\n",
    "        C[i,i]=1/sqrt(A1[i,i])\n",
    "        for j in range(i+1,n):\n",
    "            C[i,j] = -(1/A1[i,i])*A1[i,j]\n",
    "        V=V*C\n",
    "        V.simplify()\n",
    "        A1=Dagger(C)*A1*C\n",
    "        A1.simplify()\n",
    "    return V"
   ]
  },
  {
   "cell_type": "code",
   "execution_count": 4,
   "metadata": {
    "collapsed": false
   },
   "outputs": [
    {
     "data": {
      "text/latex": [
       "$$\\left ( \\left[\\begin{matrix}2 & 1\\\\1 & 2\\end{matrix}\\right], \\quad \\left[\\begin{matrix}\\frac{\\sqrt{2}}{2} & - \\frac{\\sqrt{6}}{6}\\\\0 & \\frac{\\sqrt{6}}{3}\\end{matrix}\\right]\\right )$$"
      ]
     },
     "execution_count": 4,
     "metadata": {
     },
     "output_type": "execute_result"
    }
   ],
   "source": [
    "A=zeros(2,2)\n",
    "A[0,0]=2\n",
    "A[0,1]=1\n",
    "A[1,0]=1\n",
    "A[1,1]=2\n",
    "A,MTS(A)"
   ]
  },
  {
   "cell_type": "code",
   "execution_count": 5,
   "metadata": {
    "collapsed": false
   },
   "outputs": [
    {
     "data": {
      "text/latex": [
       "$$\\left[\\begin{matrix}8 & 2 & 6 + i & 5 & 5 + 2 i & 6 + 2 i\\\\2 & 3 & 3 + i & 2 + i & 2 & 2 - i\\\\6 - i & 3 - i & 9 & 7 - i & 5 & 5 - i\\\\5 & 2 - i & 7 + i & 8 & 5 + i & 3\\\\5 - 2 i & 2 & 5 & 5 - i & 8 & 5 - i\\\\6 - 2 i & 2 + i & 5 + i & 3 & 5 + i & 7\\end{matrix}\\right]$$"
      ]
     },
     "execution_count": 5,
     "metadata": {
     },
     "output_type": "execute_result"
    }
   ],
   "source": [
    "A=randMatrixC(6,6)\n",
    "B=Dagger(A)*A\n",
    "B.simplify()\n",
    "B"
   ]
  },
  {
   "cell_type": "code",
   "execution_count": 6,
   "metadata": {
    "collapsed": false,
    "scrolled": true
   },
   "outputs": [
    {
     "data": {
      "text/latex": [
       "$$\\left[\\begin{matrix}\\frac{\\sqrt{2}}{4} & - \\frac{\\sqrt{10}}{20} & - \\frac{\\sqrt{13} \\left(12 + i\\right)}{130} & - \\frac{\\sqrt{91}}{182} & - \\frac{\\sqrt{3815} \\left(13 + 12 i\\right)}{3815} & - \\frac{\\sqrt{1090} \\left(117 + 109 i\\right)}{4360}\\\\0 & \\frac{\\sqrt{10}}{5} & - \\frac{3 \\sqrt{13} \\left(2 + i\\right)}{65} & \\frac{\\sqrt{91} \\left(3 - 4 i\\right)}{182} & \\frac{\\sqrt{3815} \\left(-11 + 12 i\\right)}{3815} & \\frac{3 \\sqrt{1090} \\left(5 + 23 i\\right)}{4360}\\\\0 & 0 & \\frac{2 \\sqrt{13}}{13} & \\frac{\\sqrt{91} \\left(-10 + 3 i\\right)}{182} & \\frac{3 \\sqrt{3815} \\left(3 + i\\right)}{3815} & \\frac{\\sqrt{1090} \\left(-103 + 55 i\\right)}{4360}\\\\0 & 0 & 0 & \\frac{\\sqrt{91}}{14} & - \\frac{\\sqrt{3815} \\left(4 + i\\right)}{763} & \\frac{3 \\sqrt{1090} \\left(35 + 3 i\\right)}{4360}\\\\0 & 0 & 0 & 0 & \\frac{\\sqrt{3815}}{109} & \\frac{\\sqrt{1090} \\left(-21 + 11 i\\right)}{2180}\\\\0 & 0 & 0 & 0 & 0 & \\frac{\\sqrt{1090}}{20}\\end{matrix}\\right]$$"
      ]
     },
     "execution_count": 6,
     "metadata": {
     },
     "output_type": "execute_result"
    }
   ],
   "source": [
    "C=MTS(B)\n",
    "C"
   ]
  },
  {
   "cell_type": "code",
   "execution_count": 7,
   "metadata": {
    "collapsed": false
   },
   "outputs": [
    {
     "data": {
      "text/latex": [
       "$$\\left[\\begin{matrix}1 & 0 & 0 & 0 & 0 & 0\\\\0 & 1 & 0 & 0 & 0 & 0\\\\0 & 0 & 1 & 0 & 0 & 0\\\\0 & 0 & 0 & 1 & 0 & 0\\\\0 & 0 & 0 & 0 & 1 & 0\\\\0 & 0 & 0 & 0 & 0 & 1\\end{matrix}\\right]$$"
      ]
     },
     "execution_count": 7,
     "metadata": {
     },
     "output_type": "execute_result"
    }
   ],
   "source": [
    "J=Dagger(C)*B*C\n",
    "J.simplify()\n",
    "J"
   ]
  },
  {
   "cell_type": "raw",
   "metadata": {
    "collapsed": false
   },
   "source": [
    "\n"
   ]
  }
 ],
 "metadata": {
  "kernelspec": {
   "display_name": "Python 3 (Ubuntu Linux)",
   "language": "python",
   "name": "python3"
  },
  "language_info": {
   "codemirror_mode": {
    "name": "ipython",
    "version": 3
   },
   "file_extension": ".py",
   "mimetype": "text/x-python",
   "name": "python",
   "nbconvert_exporter": "python",
   "pygments_lexer": "ipython3",
   "version": "3.6.5"
  }
 },
 "nbformat": 4,
 "nbformat_minor": 0
}